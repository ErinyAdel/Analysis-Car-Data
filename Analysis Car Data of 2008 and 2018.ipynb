{
 "cells": [
  {
   "cell_type": "markdown",
   "metadata": {
    "collapsed": true
   },
   "source": [
    "# Assessing"
   ]
  },
  {
   "cell_type": "code",
   "execution_count": 1,
   "metadata": {},
   "outputs": [],
   "source": [
    "import pandas as pd\n",
    "import numpy as np\n",
    "import matplotlib.pyplot as plt"
   ]
  },
  {
   "cell_type": "code",
   "execution_count": 2,
   "metadata": {},
   "outputs": [],
   "source": [
    "df_08 = pd.read_csv('all_alpha_08.csv')\n",
    "df_18 = pd.read_csv('all_alpha_18.csv')"
   ]
  },
  {
   "cell_type": "code",
   "execution_count": 3,
   "metadata": {},
   "outputs": [
    {
     "data": {
      "text/plain": "(2404, 18)"
     },
     "execution_count": 3,
     "metadata": {},
     "output_type": "execute_result"
    }
   ],
   "source": [
    "df_08.shape"
   ]
  },
  {
   "cell_type": "code",
   "execution_count": 4,
   "metadata": {},
   "outputs": [
    {
     "data": {
      "text/plain": "25"
     },
     "execution_count": 4,
     "metadata": {},
     "output_type": "execute_result"
    }
   ],
   "source": [
    "s = df_08.duplicated().tolist()\n",
    "count = 0\n",
    "for i in s:\n",
    "    if i == True:\n",
    "        count += 1\n",
    "count"
   ]
  },
  {
   "cell_type": "code",
   "execution_count": 5,
   "metadata": {},
   "outputs": [
    {
     "data": {
      "text/plain": "199"
     },
     "execution_count": 5,
     "metadata": {},
     "output_type": "execute_result"
    }
   ],
   "source": [
    "df_08.shape[0] - df_08.dropna().shape[0]"
   ]
  },
  {
   "cell_type": "code",
   "execution_count": 6,
   "metadata": {},
   "outputs": [
    {
     "data": {
      "text/plain": "(1611, 18)"
     },
     "execution_count": 6,
     "metadata": {},
     "output_type": "execute_result"
    }
   ],
   "source": [
    "df_18.shape"
   ]
  },
  {
   "cell_type": "code",
   "execution_count": 7,
   "metadata": {},
   "outputs": [
    {
     "data": {
      "text/plain": "0"
     },
     "execution_count": 7,
     "metadata": {},
     "output_type": "execute_result"
    }
   ],
   "source": [
    "s = df_18.duplicated().tolist()\n",
    "count = 0\n",
    "for i in s:\n",
    "    if i == True:\n",
    "        count += 1\n",
    "count"
   ]
  },
  {
   "cell_type": "code",
   "execution_count": 8,
   "metadata": {},
   "outputs": [
    {
     "data": {
      "text/plain": "2"
     },
     "execution_count": 8,
     "metadata": {},
     "output_type": "execute_result"
    }
   ],
   "source": [
    "df_18.shape[0] - df_18.dropna().shape[0]"
   ]
  },
  {
   "cell_type": "code",
   "execution_count": 9,
   "metadata": {},
   "outputs": [
    {
     "name": "stdout",
     "output_type": "stream",
     "text": [
      "<class 'pandas.core.frame.DataFrame'>\n",
      "RangeIndex: 1611 entries, 0 to 1610\n",
      "Data columns (total 18 columns):\n",
      " #   Column                Non-Null Count  Dtype  \n",
      "---  ------                --------------  -----  \n",
      " 0   Model                 1611 non-null   object \n",
      " 1   Displ                 1609 non-null   float64\n",
      " 2   Cyl                   1609 non-null   float64\n",
      " 3   Trans                 1611 non-null   object \n",
      " 4   Drive                 1611 non-null   object \n",
      " 5   Fuel                  1611 non-null   object \n",
      " 6   Cert Region           1611 non-null   object \n",
      " 7   Stnd                  1611 non-null   object \n",
      " 8   Stnd Description      1611 non-null   object \n",
      " 9   Underhood ID          1611 non-null   object \n",
      " 10  Veh Class             1611 non-null   object \n",
      " 11  Air Pollution Score   1611 non-null   int64  \n",
      " 12  City MPG              1611 non-null   object \n",
      " 13  Hwy MPG               1611 non-null   object \n",
      " 14  Cmb MPG               1611 non-null   object \n",
      " 15  Greenhouse Gas Score  1611 non-null   int64  \n",
      " 16  SmartWay              1611 non-null   object \n",
      " 17  Comb CO2              1611 non-null   object \n",
      "dtypes: float64(2), int64(2), object(14)\n",
      "memory usage: 226.7+ KB\n"
     ]
    }
   ],
   "source": [
    "df_18.info()"
   ]
  },
  {
   "cell_type": "code",
   "execution_count": 10,
   "metadata": {},
   "outputs": [
    {
     "name": "stdout",
     "output_type": "stream",
     "text": [
      "<class 'pandas.core.frame.DataFrame'>\n",
      "RangeIndex: 2404 entries, 0 to 2403\n",
      "Data columns (total 18 columns):\n",
      " #   Column                Non-Null Count  Dtype  \n",
      "---  ------                --------------  -----  \n",
      " 0   Model                 2404 non-null   object \n",
      " 1   Displ                 2404 non-null   float64\n",
      " 2   Cyl                   2205 non-null   object \n",
      " 3   Trans                 2205 non-null   object \n",
      " 4   Drive                 2311 non-null   object \n",
      " 5   Fuel                  2404 non-null   object \n",
      " 6   Sales Area            2404 non-null   object \n",
      " 7   Stnd                  2404 non-null   object \n",
      " 8   Underhood ID          2404 non-null   object \n",
      " 9   Veh Class             2404 non-null   object \n",
      " 10  Air Pollution Score   2404 non-null   object \n",
      " 11  FE Calc Appr          2205 non-null   object \n",
      " 12  City MPG              2205 non-null   object \n",
      " 13  Hwy MPG               2205 non-null   object \n",
      " 14  Cmb MPG               2205 non-null   object \n",
      " 15  Unadj Cmb MPG         2205 non-null   float64\n",
      " 16  Greenhouse Gas Score  2205 non-null   object \n",
      " 17  SmartWay              2404 non-null   object \n",
      "dtypes: float64(2), object(16)\n",
      "memory usage: 338.2+ KB\n"
     ]
    }
   ],
   "source": [
    "df_08.info()"
   ]
  },
  {
   "cell_type": "code",
   "execution_count": 11,
   "metadata": {},
   "outputs": [
    {
     "data": {
      "text/plain": "array(['no', 'yes'], dtype=object)"
     },
     "execution_count": 11,
     "metadata": {},
     "output_type": "execute_result"
    }
   ],
   "source": [
    "df_08.SmartWay.unique()"
   ]
  },
  {
   "cell_type": "code",
   "execution_count": 12,
   "metadata": {},
   "outputs": [
    {
     "data": {
      "text/plain": "array(['No', 'Yes', 'Elite'], dtype=object)"
     },
     "execution_count": 12,
     "metadata": {},
     "output_type": "execute_result"
    }
   ],
   "source": [
    "df_18.SmartWay.unique()"
   ]
  },
  {
   "cell_type": "code",
   "execution_count": 13,
   "metadata": {},
   "outputs": [
    {
     "data": {
      "text/plain": "array(['CA', 'FA', 'FC'], dtype=object)"
     },
     "execution_count": 13,
     "metadata": {},
     "output_type": "execute_result"
    }
   ],
   "source": [
    "df_08['Sales Area'].unique()"
   ]
  },
  {
   "cell_type": "code",
   "execution_count": 14,
   "metadata": {},
   "outputs": [
    {
     "data": {
      "text/plain": "array(['FA', 'CA'], dtype=object)"
     },
     "execution_count": 14,
     "metadata": {},
     "output_type": "execute_result"
    }
   ],
   "source": [
    "df_18['Cert Region'].unique()"
   ]
  },
  {
   "cell_type": "code",
   "execution_count": 15,
   "metadata": {},
   "outputs": [
    {
     "data": {
      "text/plain": "15"
     },
     "execution_count": 15,
     "metadata": {},
     "output_type": "execute_result"
    }
   ],
   "source": [
    "len(df_08.Trans.unique().tolist())"
   ]
  },
  {
   "cell_type": "code",
   "execution_count": 16,
   "metadata": {},
   "outputs": [
    {
     "data": {
      "text/plain": "['Auto-S5',\n 'Man-6',\n 'Auto-S6',\n 'Auto-AV',\n 'Auto-S7',\n 'Auto-L4',\n 'Auto-L6',\n 'Auto-4',\n 'Man-5',\n 'Auto-L5',\n nan,\n 'Auto-6',\n 'S8',\n 'Auto-S4',\n 'Auto-L7']"
     },
     "execution_count": 16,
     "metadata": {},
     "output_type": "execute_result"
    }
   ],
   "source": [
    "df_08.Trans.unique().tolist()"
   ]
  },
  {
   "cell_type": "code",
   "execution_count": 17,
   "metadata": {},
   "outputs": [
    {
     "data": {
      "text/plain": "(0       (6 cyl)\n 1       (6 cyl)\n 2       (4 cyl)\n 3       (4 cyl)\n 4       (6 cyl)\n          ...   \n 2399    (6 cyl)\n 2400    (8 cyl)\n 2401    (6 cyl)\n 2402    (6 cyl)\n 2403    (8 cyl)\n Name: Cyl, Length: 2404, dtype: object,\n 0       6.0\n 1       6.0\n 2       6.0\n 3       6.0\n 4       4.0\n        ... \n 1606    4.0\n 1607    4.0\n 1608    4.0\n 1609    4.0\n 1610    4.0\n Name: Cyl, Length: 1611, dtype: float64)"
     },
     "execution_count": 17,
     "metadata": {},
     "output_type": "execute_result"
    }
   ],
   "source": [
    "df_08.Cyl, df_18.Cyl"
   ]
  },
  {
   "cell_type": "code",
   "execution_count": 18,
   "metadata": {},
   "outputs": [
    {
     "data": {
      "text/plain": "(9, 8)"
     },
     "execution_count": 18,
     "metadata": {},
     "output_type": "execute_result"
    }
   ],
   "source": [
    "len(df_08.Cyl.unique()), len(df_18.Cyl.unique())"
   ]
  },
  {
   "cell_type": "code",
   "execution_count": 19,
   "metadata": {},
   "outputs": [
    {
     "data": {
      "text/plain": "True"
     },
     "execution_count": 19,
     "metadata": {},
     "output_type": "execute_result"
    }
   ],
   "source": [
    "\"Ethanol/Gas\".lower() in df_08.Fuel.str.lower().unique().tolist()"
   ]
  },
  {
   "cell_type": "code",
   "execution_count": 20,
   "metadata": {},
   "outputs": [
    {
     "data": {
      "text/plain": "False"
     },
     "execution_count": 20,
     "metadata": {},
     "output_type": "execute_result"
    }
   ],
   "source": [
    "\"Ethanol/Gas\" in df_18.Fuel.str.lower().unique().tolist()"
   ]
  },
  {
   "cell_type": "code",
   "execution_count": 21,
   "metadata": {},
   "outputs": [
    {
     "data": {
      "text/plain": "['Gasoline', 'ethanol/gas', 'ethanol', 'diesel', 'CNG']"
     },
     "execution_count": 21,
     "metadata": {},
     "output_type": "execute_result"
    }
   ],
   "source": [
    "df_08.Fuel.unique().tolist()"
   ]
  },
  {
   "cell_type": "code",
   "execution_count": 22,
   "metadata": {},
   "outputs": [
    {
     "data": {
      "text/plain": "['Gasoline', 'Gasoline/Electricity', 'Diesel', 'Ethanol/Gas', 'Electricity']"
     },
     "execution_count": 22,
     "metadata": {},
     "output_type": "execute_result"
    }
   ],
   "source": [
    "df_18.Fuel.unique().tolist()"
   ]
  },
  {
   "cell_type": "markdown",
   "source": [
    "### Drop Extraneous Columns"
   ],
   "metadata": {
    "collapsed": false
   }
  },
  {
   "cell_type": "code",
   "execution_count": 23,
   "metadata": {
    "pycharm": {
     "name": "#%%\n"
    }
   },
   "outputs": [
    {
     "data": {
      "text/plain": "       Model  Displ      Cyl    Trans Drive      Fuel Sales Area Veh Class  \\\n0  ACURA MDX    3.7  (6 cyl)  Auto-S5   4WD  Gasoline         CA       SUV   \n\n  Air Pollution Score City MPG Hwy MPG Cmb MPG Greenhouse Gas Score SmartWay  \n0                   7       15      20      17                    4       no  ",
      "text/html": "<div>\n<style scoped>\n    .dataframe tbody tr th:only-of-type {\n        vertical-align: middle;\n    }\n\n    .dataframe tbody tr th {\n        vertical-align: top;\n    }\n\n    .dataframe thead th {\n        text-align: right;\n    }\n</style>\n<table border=\"1\" class=\"dataframe\">\n  <thead>\n    <tr style=\"text-align: right;\">\n      <th></th>\n      <th>Model</th>\n      <th>Displ</th>\n      <th>Cyl</th>\n      <th>Trans</th>\n      <th>Drive</th>\n      <th>Fuel</th>\n      <th>Sales Area</th>\n      <th>Veh Class</th>\n      <th>Air Pollution Score</th>\n      <th>City MPG</th>\n      <th>Hwy MPG</th>\n      <th>Cmb MPG</th>\n      <th>Greenhouse Gas Score</th>\n      <th>SmartWay</th>\n    </tr>\n  </thead>\n  <tbody>\n    <tr>\n      <th>0</th>\n      <td>ACURA MDX</td>\n      <td>3.7</td>\n      <td>(6 cyl)</td>\n      <td>Auto-S5</td>\n      <td>4WD</td>\n      <td>Gasoline</td>\n      <td>CA</td>\n      <td>SUV</td>\n      <td>7</td>\n      <td>15</td>\n      <td>20</td>\n      <td>17</td>\n      <td>4</td>\n      <td>no</td>\n    </tr>\n  </tbody>\n</table>\n</div>"
     },
     "execution_count": 23,
     "metadata": {},
     "output_type": "execute_result"
    }
   ],
   "source": [
    "df_08.drop(['Stnd', 'Underhood ID', 'FE Calc Appr', 'Unadj Cmb MPG'], axis=1, inplace=True)\n",
    "df_18.drop(['Stnd', 'Stnd Description', 'Underhood ID', 'Comb CO2'], axis=1, inplace=True)\n",
    "\n",
    "df_08.head(1)"
   ]
  },
  {
   "cell_type": "markdown",
   "source": [
    "### Rename Columns"
   ],
   "metadata": {
    "collapsed": false
   }
  },
  {
   "cell_type": "code",
   "execution_count": 24,
   "outputs": [],
   "source": [
    "df_08.rename(columns=lambda x: x.strip().lower().replace(\" \", \"_\"), inplace=True)"
   ],
   "metadata": {
    "collapsed": false,
    "pycharm": {
     "name": "#%%\n"
    }
   }
  },
  {
   "cell_type": "code",
   "execution_count": 25,
   "outputs": [
    {
     "data": {
      "text/plain": "       model  displ      cyl    trans drive      fuel cert_region veh_class  \\\n0  ACURA MDX    3.7  (6 cyl)  Auto-S5   4WD  Gasoline          CA       SUV   \n\n  air_pollution_score city_mpg hwy_mpg cmb_mpg greenhouse_gas_score smartway  \n0                   7       15      20      17                    4       no  ",
      "text/html": "<div>\n<style scoped>\n    .dataframe tbody tr th:only-of-type {\n        vertical-align: middle;\n    }\n\n    .dataframe tbody tr th {\n        vertical-align: top;\n    }\n\n    .dataframe thead th {\n        text-align: right;\n    }\n</style>\n<table border=\"1\" class=\"dataframe\">\n  <thead>\n    <tr style=\"text-align: right;\">\n      <th></th>\n      <th>model</th>\n      <th>displ</th>\n      <th>cyl</th>\n      <th>trans</th>\n      <th>drive</th>\n      <th>fuel</th>\n      <th>cert_region</th>\n      <th>veh_class</th>\n      <th>air_pollution_score</th>\n      <th>city_mpg</th>\n      <th>hwy_mpg</th>\n      <th>cmb_mpg</th>\n      <th>greenhouse_gas_score</th>\n      <th>smartway</th>\n    </tr>\n  </thead>\n  <tbody>\n    <tr>\n      <th>0</th>\n      <td>ACURA MDX</td>\n      <td>3.7</td>\n      <td>(6 cyl)</td>\n      <td>Auto-S5</td>\n      <td>4WD</td>\n      <td>Gasoline</td>\n      <td>CA</td>\n      <td>SUV</td>\n      <td>7</td>\n      <td>15</td>\n      <td>20</td>\n      <td>17</td>\n      <td>4</td>\n      <td>no</td>\n    </tr>\n  </tbody>\n</table>\n</div>"
     },
     "execution_count": 25,
     "metadata": {},
     "output_type": "execute_result"
    }
   ],
   "source": [
    "df_08.rename(columns={\"sales_area\": \"cert_region\"}, inplace=True)\n",
    "df_08.head(1)"
   ],
   "metadata": {
    "collapsed": false,
    "pycharm": {
     "name": "#%%\n"
    }
   }
  },
  {
   "cell_type": "code",
   "execution_count": 26,
   "outputs": [
    {
     "data": {
      "text/plain": "       model  displ  cyl       trans drive      fuel cert_region  veh_class  \\\n0  ACURA RDX    3.5  6.0  SemiAuto-6   2WD  Gasoline          FA  small SUV   \n\n   air_pollution_score city_mpg hwy_mpg cmb_mpg  greenhouse_gas_score smartway  \n0                    3       20      28      23                     5       No  ",
      "text/html": "<div>\n<style scoped>\n    .dataframe tbody tr th:only-of-type {\n        vertical-align: middle;\n    }\n\n    .dataframe tbody tr th {\n        vertical-align: top;\n    }\n\n    .dataframe thead th {\n        text-align: right;\n    }\n</style>\n<table border=\"1\" class=\"dataframe\">\n  <thead>\n    <tr style=\"text-align: right;\">\n      <th></th>\n      <th>model</th>\n      <th>displ</th>\n      <th>cyl</th>\n      <th>trans</th>\n      <th>drive</th>\n      <th>fuel</th>\n      <th>cert_region</th>\n      <th>veh_class</th>\n      <th>air_pollution_score</th>\n      <th>city_mpg</th>\n      <th>hwy_mpg</th>\n      <th>cmb_mpg</th>\n      <th>greenhouse_gas_score</th>\n      <th>smartway</th>\n    </tr>\n  </thead>\n  <tbody>\n    <tr>\n      <th>0</th>\n      <td>ACURA RDX</td>\n      <td>3.5</td>\n      <td>6.0</td>\n      <td>SemiAuto-6</td>\n      <td>2WD</td>\n      <td>Gasoline</td>\n      <td>FA</td>\n      <td>small SUV</td>\n      <td>3</td>\n      <td>20</td>\n      <td>28</td>\n      <td>23</td>\n      <td>5</td>\n      <td>No</td>\n    </tr>\n  </tbody>\n</table>\n</div>"
     },
     "execution_count": 26,
     "metadata": {},
     "output_type": "execute_result"
    }
   ],
   "source": [
    "df_18.rename(columns=lambda x: x.strip().lower().replace(\" \", \"_\"), inplace=True)\n",
    "df_18.head(1)"
   ],
   "metadata": {
    "collapsed": false,
    "pycharm": {
     "name": "#%%\n"
    }
   }
  },
  {
   "cell_type": "code",
   "execution_count": 27,
   "outputs": [
    {
     "data": {
      "text/plain": "array([ True,  True,  True,  True,  True,  True,  True,  True,  True,\n        True,  True,  True,  True,  True])"
     },
     "execution_count": 27,
     "metadata": {},
     "output_type": "execute_result"
    }
   ],
   "source": [
    "df_08.columns == df_18.columns"
   ],
   "metadata": {
    "collapsed": false,
    "pycharm": {
     "name": "#%%\n"
    }
   }
  },
  {
   "cell_type": "code",
   "execution_count": 28,
   "outputs": [
    {
     "data": {
      "text/plain": "True"
     },
     "execution_count": 28,
     "metadata": {},
     "output_type": "execute_result"
    }
   ],
   "source": [
    "(df_08.columns == df_18.columns).all()"
   ],
   "metadata": {
    "collapsed": false,
    "pycharm": {
     "name": "#%%\n"
    }
   }
  },
  {
   "cell_type": "markdown",
   "source": [
    "## Drop Rows with Missing Values"
   ],
   "metadata": {
    "collapsed": false
   }
  },
  {
   "cell_type": "code",
   "execution_count": 29,
   "outputs": [
    {
     "data": {
      "text/plain": "model                   2404\ndispl                   2404\ncyl                     2205\ntrans                   2205\ndrive                   2311\nfuel                    2404\ncert_region             2404\nveh_class               2404\nair_pollution_score     2404\ncity_mpg                2205\nhwy_mpg                 2205\ncmb_mpg                 2205\ngreenhouse_gas_score    2205\nsmartway                2404\ndtype: int64"
     },
     "execution_count": 29,
     "metadata": {},
     "output_type": "execute_result"
    }
   ],
   "source": [
    "df_08[df_08.columns.tolist()].count()"
   ],
   "metadata": {
    "collapsed": false,
    "pycharm": {
     "name": "#%%\n"
    }
   }
  },
  {
   "cell_type": "code",
   "execution_count": 30,
   "outputs": [
    {
     "data": {
      "text/plain": "model                   1611\ndispl                   1609\ncyl                     1609\ntrans                   1611\ndrive                   1611\nfuel                    1611\ncert_region             1611\nveh_class               1611\nair_pollution_score     1611\ncity_mpg                1611\nhwy_mpg                 1611\ncmb_mpg                 1611\ngreenhouse_gas_score    1611\nsmartway                1611\ndtype: int64"
     },
     "execution_count": 30,
     "metadata": {},
     "output_type": "execute_result"
    }
   ],
   "source": [
    "df_18[df_18.columns.tolist()].count()"
   ],
   "metadata": {
    "collapsed": false,
    "pycharm": {
     "name": "#%%\n"
    }
   }
  },
  {
   "cell_type": "code",
   "execution_count": 31,
   "outputs": [],
   "source": [
    "df_08.dropna(axis=0, inplace=True)\n",
    "df_18.dropna(axis=0, inplace=True)"
   ],
   "metadata": {
    "collapsed": false,
    "pycharm": {
     "name": "#%%\n"
    }
   }
  },
  {
   "cell_type": "code",
   "execution_count": 32,
   "outputs": [
    {
     "data": {
      "text/plain": "array(['FA', 'CA'], dtype=object)"
     },
     "execution_count": 32,
     "metadata": {},
     "output_type": "execute_result"
    }
   ],
   "source": [
    "df_18['cert_region'].unique()"
   ],
   "metadata": {
    "collapsed": false,
    "pycharm": {
     "name": "#%%\n"
    }
   }
  },
  {
   "cell_type": "code",
   "execution_count": 33,
   "outputs": [
    {
     "data": {
      "text/plain": "(False, False)"
     },
     "execution_count": 33,
     "metadata": {},
     "output_type": "execute_result"
    }
   ],
   "source": [
    "df_08.isnull().sum().any(), df_18.isnull().sum().any()"
   ],
   "metadata": {
    "collapsed": false,
    "pycharm": {
     "name": "#%%\n"
    }
   }
  },
  {
   "cell_type": "markdown",
   "source": [
    "## Dedupe Data"
   ],
   "metadata": {
    "collapsed": false,
    "pycharm": {
     "name": "#%% md\n"
    }
   }
  },
  {
   "cell_type": "code",
   "source": [
    "df_08.duplicated().any().sum(), df_18.duplicated().any().sum()"
   ],
   "metadata": {
    "collapsed": false,
    "pycharm": {
     "name": "#%%\n"
    }
   },
   "execution_count": 34,
   "outputs": [
    {
     "data": {
      "text/plain": "(1, 1)"
     },
     "execution_count": 34,
     "metadata": {},
     "output_type": "execute_result"
    }
   ]
  },
  {
   "cell_type": "code",
   "execution_count": 35,
   "outputs": [],
   "source": [
    "df_08.drop_duplicates(inplace=True)\n",
    "df_18.drop_duplicates(inplace=True)"
   ],
   "metadata": {
    "collapsed": false,
    "pycharm": {
     "name": "#%%\n"
    }
   }
  },
  {
   "cell_type": "code",
   "execution_count": 36,
   "outputs": [
    {
     "data": {
      "text/plain": "(0, 0)"
     },
     "execution_count": 36,
     "metadata": {},
     "output_type": "execute_result"
    }
   ],
   "source": [
    "df_08.duplicated().any().sum(), df_18.duplicated().any().sum()"
   ],
   "metadata": {
    "collapsed": false,
    "pycharm": {
     "name": "#%%\n"
    }
   }
  },
  {
   "cell_type": "markdown",
   "source": [
    "## Inspect Datatypes"
   ],
   "metadata": {
    "collapsed": false,
    "pycharm": {
     "name": "#%% md\n"
    }
   }
  },
  {
   "cell_type": "code",
   "source": [
    "df_08.info()"
   ],
   "metadata": {
    "collapsed": false,
    "pycharm": {
     "name": "#%%\n"
    }
   },
   "execution_count": 37,
   "outputs": [
    {
     "name": "stdout",
     "output_type": "stream",
     "text": [
      "<class 'pandas.core.frame.DataFrame'>\n",
      "Int64Index: 2142 entries, 0 to 2403\n",
      "Data columns (total 14 columns):\n",
      " #   Column                Non-Null Count  Dtype  \n",
      "---  ------                --------------  -----  \n",
      " 0   model                 2142 non-null   object \n",
      " 1   displ                 2142 non-null   float64\n",
      " 2   cyl                   2142 non-null   object \n",
      " 3   trans                 2142 non-null   object \n",
      " 4   drive                 2142 non-null   object \n",
      " 5   fuel                  2142 non-null   object \n",
      " 6   cert_region           2142 non-null   object \n",
      " 7   veh_class             2142 non-null   object \n",
      " 8   air_pollution_score   2142 non-null   object \n",
      " 9   city_mpg              2142 non-null   object \n",
      " 10  hwy_mpg               2142 non-null   object \n",
      " 11  cmb_mpg               2142 non-null   object \n",
      " 12  greenhouse_gas_score  2142 non-null   object \n",
      " 13  smartway              2142 non-null   object \n",
      "dtypes: float64(1), object(13)\n",
      "memory usage: 251.0+ KB\n"
     ]
    }
   ]
  },
  {
   "cell_type": "code",
   "execution_count": 38,
   "outputs": [
    {
     "name": "stdout",
     "output_type": "stream",
     "text": [
      "<class 'pandas.core.frame.DataFrame'>\n",
      "Int64Index: 1604 entries, 0 to 1610\n",
      "Data columns (total 14 columns):\n",
      " #   Column                Non-Null Count  Dtype  \n",
      "---  ------                --------------  -----  \n",
      " 0   model                 1604 non-null   object \n",
      " 1   displ                 1604 non-null   float64\n",
      " 2   cyl                   1604 non-null   float64\n",
      " 3   trans                 1604 non-null   object \n",
      " 4   drive                 1604 non-null   object \n",
      " 5   fuel                  1604 non-null   object \n",
      " 6   cert_region           1604 non-null   object \n",
      " 7   veh_class             1604 non-null   object \n",
      " 8   air_pollution_score   1604 non-null   int64  \n",
      " 9   city_mpg              1604 non-null   object \n",
      " 10  hwy_mpg               1604 non-null   object \n",
      " 11  cmb_mpg               1604 non-null   object \n",
      " 12  greenhouse_gas_score  1604 non-null   int64  \n",
      " 13  smartway              1604 non-null   object \n",
      "dtypes: float64(2), int64(2), object(10)\n",
      "memory usage: 188.0+ KB\n"
     ]
    }
   ],
   "source": [
    "df_18.info()"
   ],
   "metadata": {
    "collapsed": false,
    "pycharm": {
     "name": "#%%\n"
    }
   }
  },
  {
   "cell_type": "code",
   "execution_count": 39,
   "outputs": [
    {
     "data": {
      "text/plain": "array(['(6 cyl)', '(4 cyl)', '(12 cyl)', '(8 cyl)', '(10 cyl)',\n       '(16 cyl)', '(5 cyl)', '(2 cyl)'], dtype=object)"
     },
     "execution_count": 39,
     "metadata": {},
     "output_type": "execute_result"
    }
   ],
   "source": [
    "df_08.cyl.unique() # Change cyl by other features to check them all."
   ],
   "metadata": {
    "collapsed": false,
    "pycharm": {
     "name": "#%%\n"
    }
   }
  },
  {
   "cell_type": "code",
   "execution_count": 40,
   "outputs": [
    {
     "data": {
      "text/plain": "array([ 6.,  4.,  5., 12., 16.,  8.,  3.])"
     },
     "execution_count": 40,
     "metadata": {},
     "output_type": "execute_result"
    }
   ],
   "source": [
    "df_18.cyl.unique()"
   ],
   "metadata": {
    "collapsed": false,
    "pycharm": {
     "name": "#%%\n"
    }
   }
  },
  {
   "cell_type": "code",
   "execution_count": 41,
   "outputs": [
    {
     "data": {
      "text/plain": "(dtype('O'), dtype('float64'))"
     },
     "execution_count": 41,
     "metadata": {},
     "output_type": "execute_result"
    }
   ],
   "source": [
    "df_08.cyl.dtype, df_18.cyl.dtype"
   ],
   "metadata": {
    "collapsed": false,
    "pycharm": {
     "name": "#%%\n"
    }
   }
  },
  {
   "cell_type": "markdown",
   "source": [
    "# Fixing `cyl` Data Type"
   ],
   "metadata": {
    "collapsed": false,
    "pycharm": {
     "name": "#%% md\n"
    }
   }
  },
  {
   "cell_type": "code",
   "source": [
    "df_08['cyl'] = df_08['cyl'].str.extract(\"(\\d+)\")\n",
    "df_08['cyl'].value_counts()"
   ],
   "metadata": {
    "collapsed": false,
    "pycharm": {
     "name": "#%%\n"
    }
   },
   "execution_count": 42,
   "outputs": [
    {
     "data": {
      "text/plain": "6     836\n4     582\n8     516\n5     113\n12     60\n10     29\n2       4\n16      2\nName: cyl, dtype: int64"
     },
     "execution_count": 42,
     "metadata": {},
     "output_type": "execute_result"
    }
   ]
  },
  {
   "cell_type": "code",
   "execution_count": 43,
   "outputs": [
    {
     "data": {
      "text/plain": "0       6\n1       6\n2       4\n3       4\n4       6\n       ..\n2399    6\n2400    8\n2401    6\n2402    6\n2403    8\nName: cyl, Length: 2142, dtype: int32"
     },
     "execution_count": 43,
     "metadata": {},
     "output_type": "execute_result"
    }
   ],
   "source": [
    "df_08['cyl']  = df_08['cyl'].astype(int)\n",
    "df_08['cyl']"
   ],
   "metadata": {
    "collapsed": false,
    "pycharm": {
     "name": "#%%\n"
    }
   }
  },
  {
   "cell_type": "code",
   "source": [
    "df_18['cyl'] = df_18['cyl'].astype(int)\n",
    "df_18['cyl']"
   ],
   "metadata": {
    "collapsed": false,
    "pycharm": {
     "name": "#%%\n"
    }
   },
   "execution_count": 44,
   "outputs": [
    {
     "data": {
      "text/plain": "0       6\n1       6\n2       6\n3       6\n4       4\n       ..\n1606    4\n1607    4\n1608    4\n1609    4\n1610    4\nName: cyl, Length: 1604, dtype: int32"
     },
     "execution_count": 44,
     "metadata": {},
     "output_type": "execute_result"
    }
   ]
  },
  {
   "cell_type": "markdown",
   "source": [
    "# Fixing `air_pollution_score` Data Type"
   ],
   "metadata": {
    "collapsed": false,
    "pycharm": {
     "name": "#%% md\n"
    }
   }
  },
  {
   "cell_type": "code",
   "execution_count": 45,
   "outputs": [
    {
     "data": {
      "text/plain": "array([ 6,  4, 12,  8, 10, 16,  5,  2])"
     },
     "execution_count": 45,
     "metadata": {},
     "output_type": "execute_result"
    }
   ],
   "source": [
    "df_08.cyl.unique()"
   ],
   "metadata": {
    "collapsed": false,
    "pycharm": {
     "name": "#%%\n"
    }
   }
  },
  {
   "cell_type": "code",
   "execution_count": 46,
   "outputs": [
    {
     "data": {
      "text/plain": "array([ 6,  4,  5, 12, 16,  8,  3])"
     },
     "execution_count": 46,
     "metadata": {},
     "output_type": "execute_result"
    }
   ],
   "source": [
    "df_18.cyl.unique()"
   ],
   "metadata": {
    "collapsed": false,
    "pycharm": {
     "name": "#%%\n"
    }
   }
  },
  {
   "cell_type": "code",
   "execution_count": 47,
   "outputs": [
    {
     "data": {
      "text/plain": "                         model  displ  cyl    trans drive         fuel  \\\n316   CHEVROLET Avalanche 1500    5.3    8  Auto-L4   2WD  ethanol/gas   \n317   CHEVROLET Avalanche 1500    5.3    8  Auto-L4   4WD  ethanol/gas   \n321   CHEVROLET Avalanche 1500    5.3    8  Auto-L4   2WD  ethanol/gas   \n322   CHEVROLET Avalanche 1500    5.3    8  Auto-L4   4WD  ethanol/gas   \n380     CHEVROLET Express 1500    5.3    8  Auto-L4   4WD  ethanol/gas   \n...                        ...    ...  ...      ...   ...          ...   \n1734         MITSUBISHI Raider    4.7    8  Auto-L5   4WD  ethanol/gas   \n1764             NISSAN Armada    5.6    8  Auto-L5   2WD  ethanol/gas   \n1765             NISSAN Armada    5.6    8  Auto-L5   4WD  ethanol/gas   \n1808              NISSAN Titan    5.6    8  Auto-L5   2WD  ethanol/gas   \n1809              NISSAN Titan    5.6    8  Auto-L5   4WD  ethanol/gas   \n\n     cert_region veh_class air_pollution_score city_mpg hwy_mpg cmb_mpg  \\\n316           FC       SUV                 7/7    11/14   15/20   12/16   \n317           FC       SUV                 7/7    11/14   14/19   12/16   \n321           FC       SUV                 6/6    11/14   15/20   12/16   \n322           FC       SUV                 6/6    11/14   14/19   12/16   \n380           FC       van                 6/6     9/12   12/16   10/14   \n...          ...       ...                 ...      ...     ...     ...   \n1734          FA    pickup                 3/3     9/14   12/19   10/15   \n1764          FA       SUV                 6/6     9/12   13/18   10/14   \n1765          FA       SUV                 6/6     9/12   13/17   10/14   \n1808          FA    pickup                 6/6     9/12   13/17   10/14   \n1809          FA    pickup                 6/6     9/12   12/17   10/14   \n\n     greenhouse_gas_score smartway  \n316                   6/4       no  \n317                   6/4       no  \n321                   6/4       no  \n322                   6/4       no  \n380                   4/2       no  \n...                   ...      ...  \n1734                  4/3       no  \n1764                  4/2       no  \n1765                  4/2       no  \n1808                  4/2       no  \n1809                  4/2       no  \n\n[65 rows x 14 columns]",
      "text/html": "<div>\n<style scoped>\n    .dataframe tbody tr th:only-of-type {\n        vertical-align: middle;\n    }\n\n    .dataframe tbody tr th {\n        vertical-align: top;\n    }\n\n    .dataframe thead th {\n        text-align: right;\n    }\n</style>\n<table border=\"1\" class=\"dataframe\">\n  <thead>\n    <tr style=\"text-align: right;\">\n      <th></th>\n      <th>model</th>\n      <th>displ</th>\n      <th>cyl</th>\n      <th>trans</th>\n      <th>drive</th>\n      <th>fuel</th>\n      <th>cert_region</th>\n      <th>veh_class</th>\n      <th>air_pollution_score</th>\n      <th>city_mpg</th>\n      <th>hwy_mpg</th>\n      <th>cmb_mpg</th>\n      <th>greenhouse_gas_score</th>\n      <th>smartway</th>\n    </tr>\n  </thead>\n  <tbody>\n    <tr>\n      <th>316</th>\n      <td>CHEVROLET Avalanche 1500</td>\n      <td>5.3</td>\n      <td>8</td>\n      <td>Auto-L4</td>\n      <td>2WD</td>\n      <td>ethanol/gas</td>\n      <td>FC</td>\n      <td>SUV</td>\n      <td>7/7</td>\n      <td>11/14</td>\n      <td>15/20</td>\n      <td>12/16</td>\n      <td>6/4</td>\n      <td>no</td>\n    </tr>\n    <tr>\n      <th>317</th>\n      <td>CHEVROLET Avalanche 1500</td>\n      <td>5.3</td>\n      <td>8</td>\n      <td>Auto-L4</td>\n      <td>4WD</td>\n      <td>ethanol/gas</td>\n      <td>FC</td>\n      <td>SUV</td>\n      <td>7/7</td>\n      <td>11/14</td>\n      <td>14/19</td>\n      <td>12/16</td>\n      <td>6/4</td>\n      <td>no</td>\n    </tr>\n    <tr>\n      <th>321</th>\n      <td>CHEVROLET Avalanche 1500</td>\n      <td>5.3</td>\n      <td>8</td>\n      <td>Auto-L4</td>\n      <td>2WD</td>\n      <td>ethanol/gas</td>\n      <td>FC</td>\n      <td>SUV</td>\n      <td>6/6</td>\n      <td>11/14</td>\n      <td>15/20</td>\n      <td>12/16</td>\n      <td>6/4</td>\n      <td>no</td>\n    </tr>\n    <tr>\n      <th>322</th>\n      <td>CHEVROLET Avalanche 1500</td>\n      <td>5.3</td>\n      <td>8</td>\n      <td>Auto-L4</td>\n      <td>4WD</td>\n      <td>ethanol/gas</td>\n      <td>FC</td>\n      <td>SUV</td>\n      <td>6/6</td>\n      <td>11/14</td>\n      <td>14/19</td>\n      <td>12/16</td>\n      <td>6/4</td>\n      <td>no</td>\n    </tr>\n    <tr>\n      <th>380</th>\n      <td>CHEVROLET Express 1500</td>\n      <td>5.3</td>\n      <td>8</td>\n      <td>Auto-L4</td>\n      <td>4WD</td>\n      <td>ethanol/gas</td>\n      <td>FC</td>\n      <td>van</td>\n      <td>6/6</td>\n      <td>9/12</td>\n      <td>12/16</td>\n      <td>10/14</td>\n      <td>4/2</td>\n      <td>no</td>\n    </tr>\n    <tr>\n      <th>...</th>\n      <td>...</td>\n      <td>...</td>\n      <td>...</td>\n      <td>...</td>\n      <td>...</td>\n      <td>...</td>\n      <td>...</td>\n      <td>...</td>\n      <td>...</td>\n      <td>...</td>\n      <td>...</td>\n      <td>...</td>\n      <td>...</td>\n      <td>...</td>\n    </tr>\n    <tr>\n      <th>1734</th>\n      <td>MITSUBISHI Raider</td>\n      <td>4.7</td>\n      <td>8</td>\n      <td>Auto-L5</td>\n      <td>4WD</td>\n      <td>ethanol/gas</td>\n      <td>FA</td>\n      <td>pickup</td>\n      <td>3/3</td>\n      <td>9/14</td>\n      <td>12/19</td>\n      <td>10/15</td>\n      <td>4/3</td>\n      <td>no</td>\n    </tr>\n    <tr>\n      <th>1764</th>\n      <td>NISSAN Armada</td>\n      <td>5.6</td>\n      <td>8</td>\n      <td>Auto-L5</td>\n      <td>2WD</td>\n      <td>ethanol/gas</td>\n      <td>FA</td>\n      <td>SUV</td>\n      <td>6/6</td>\n      <td>9/12</td>\n      <td>13/18</td>\n      <td>10/14</td>\n      <td>4/2</td>\n      <td>no</td>\n    </tr>\n    <tr>\n      <th>1765</th>\n      <td>NISSAN Armada</td>\n      <td>5.6</td>\n      <td>8</td>\n      <td>Auto-L5</td>\n      <td>4WD</td>\n      <td>ethanol/gas</td>\n      <td>FA</td>\n      <td>SUV</td>\n      <td>6/6</td>\n      <td>9/12</td>\n      <td>13/17</td>\n      <td>10/14</td>\n      <td>4/2</td>\n      <td>no</td>\n    </tr>\n    <tr>\n      <th>1808</th>\n      <td>NISSAN Titan</td>\n      <td>5.6</td>\n      <td>8</td>\n      <td>Auto-L5</td>\n      <td>2WD</td>\n      <td>ethanol/gas</td>\n      <td>FA</td>\n      <td>pickup</td>\n      <td>6/6</td>\n      <td>9/12</td>\n      <td>13/17</td>\n      <td>10/14</td>\n      <td>4/2</td>\n      <td>no</td>\n    </tr>\n    <tr>\n      <th>1809</th>\n      <td>NISSAN Titan</td>\n      <td>5.6</td>\n      <td>8</td>\n      <td>Auto-L5</td>\n      <td>4WD</td>\n      <td>ethanol/gas</td>\n      <td>FA</td>\n      <td>pickup</td>\n      <td>6/6</td>\n      <td>9/12</td>\n      <td>12/17</td>\n      <td>10/14</td>\n      <td>4/2</td>\n      <td>no</td>\n    </tr>\n  </tbody>\n</table>\n<p>65 rows × 14 columns</p>\n</div>"
     },
     "execution_count": 47,
     "metadata": {},
     "output_type": "execute_result"
    }
   ],
   "source": [
    "hb_08 = df_08[df_08['fuel'].str.contains('/')]\n",
    "hb_08"
   ],
   "metadata": {
    "collapsed": false,
    "pycharm": {
     "name": "#%%\n"
    }
   }
  },
  {
   "cell_type": "code",
   "execution_count": 48,
   "outputs": [
    {
     "data": {
      "text/plain": "            model  displ  cyl       trans drive                  fuel  \\\n108      BMW 330e    2.0    4  SemiAuto-8   2WD  Gasoline/Electricity   \n109      BMW 330e    2.0    4  SemiAuto-8   2WD  Gasoline/Electricity   \n160      BMW 530e    2.0    4  SemiAuto-8   2WD  Gasoline/Electricity   \n161      BMW 530e    2.0    4  SemiAuto-8   2WD  Gasoline/Electricity   \n162      BMW 530e    2.0    4  SemiAuto-8   4WD  Gasoline/Electricity   \n...           ...    ...  ...         ...   ...                   ...   \n1578    VOLVO S90    2.0    4  SemiAuto-8   4WD  Gasoline/Electricity   \n1601  VOLVO XC 60    2.0    4  SemiAuto-8   4WD  Gasoline/Electricity   \n1602  VOLVO XC 60    2.0    4  SemiAuto-8   4WD  Gasoline/Electricity   \n1609  VOLVO XC 90    2.0    4  SemiAuto-8   4WD  Gasoline/Electricity   \n1610  VOLVO XC 90    2.0    4  SemiAuto-8   4WD  Gasoline/Electricity   \n\n     cert_region     veh_class  air_pollution_score city_mpg hwy_mpg cmb_mpg  \\\n108           CA     small car                    3    28/66   34/78   30/71   \n109           FA     small car                    3    28/66   34/78   30/71   \n160           CA     small car                    7    27/70   31/75   29/72   \n161           FA     small car                    7    27/70   31/75   29/72   \n162           CA     small car                    7    27/66   31/68   28/67   \n...          ...           ...                  ...      ...     ...     ...   \n1578          FA   midsize car                    7    26/70   33/72   29/71   \n1601          CA     small SUV                    7    26/60   28/58   26/59   \n1602          FA     small SUV                    7    26/60   28/58   26/59   \n1609          CA  standard SUV                    7    26/63   30/61   27/62   \n1610          FA  standard SUV                    7    26/63   30/61   27/62   \n\n      greenhouse_gas_score smartway  \n108                     10      Yes  \n109                     10      Yes  \n160                     10    Elite  \n161                     10    Elite  \n162                     10    Elite  \n...                    ...      ...  \n1578                    10    Elite  \n1601                    10    Elite  \n1602                    10    Elite  \n1609                    10    Elite  \n1610                    10    Elite  \n\n[79 rows x 14 columns]",
      "text/html": "<div>\n<style scoped>\n    .dataframe tbody tr th:only-of-type {\n        vertical-align: middle;\n    }\n\n    .dataframe tbody tr th {\n        vertical-align: top;\n    }\n\n    .dataframe thead th {\n        text-align: right;\n    }\n</style>\n<table border=\"1\" class=\"dataframe\">\n  <thead>\n    <tr style=\"text-align: right;\">\n      <th></th>\n      <th>model</th>\n      <th>displ</th>\n      <th>cyl</th>\n      <th>trans</th>\n      <th>drive</th>\n      <th>fuel</th>\n      <th>cert_region</th>\n      <th>veh_class</th>\n      <th>air_pollution_score</th>\n      <th>city_mpg</th>\n      <th>hwy_mpg</th>\n      <th>cmb_mpg</th>\n      <th>greenhouse_gas_score</th>\n      <th>smartway</th>\n    </tr>\n  </thead>\n  <tbody>\n    <tr>\n      <th>108</th>\n      <td>BMW 330e</td>\n      <td>2.0</td>\n      <td>4</td>\n      <td>SemiAuto-8</td>\n      <td>2WD</td>\n      <td>Gasoline/Electricity</td>\n      <td>CA</td>\n      <td>small car</td>\n      <td>3</td>\n      <td>28/66</td>\n      <td>34/78</td>\n      <td>30/71</td>\n      <td>10</td>\n      <td>Yes</td>\n    </tr>\n    <tr>\n      <th>109</th>\n      <td>BMW 330e</td>\n      <td>2.0</td>\n      <td>4</td>\n      <td>SemiAuto-8</td>\n      <td>2WD</td>\n      <td>Gasoline/Electricity</td>\n      <td>FA</td>\n      <td>small car</td>\n      <td>3</td>\n      <td>28/66</td>\n      <td>34/78</td>\n      <td>30/71</td>\n      <td>10</td>\n      <td>Yes</td>\n    </tr>\n    <tr>\n      <th>160</th>\n      <td>BMW 530e</td>\n      <td>2.0</td>\n      <td>4</td>\n      <td>SemiAuto-8</td>\n      <td>2WD</td>\n      <td>Gasoline/Electricity</td>\n      <td>CA</td>\n      <td>small car</td>\n      <td>7</td>\n      <td>27/70</td>\n      <td>31/75</td>\n      <td>29/72</td>\n      <td>10</td>\n      <td>Elite</td>\n    </tr>\n    <tr>\n      <th>161</th>\n      <td>BMW 530e</td>\n      <td>2.0</td>\n      <td>4</td>\n      <td>SemiAuto-8</td>\n      <td>2WD</td>\n      <td>Gasoline/Electricity</td>\n      <td>FA</td>\n      <td>small car</td>\n      <td>7</td>\n      <td>27/70</td>\n      <td>31/75</td>\n      <td>29/72</td>\n      <td>10</td>\n      <td>Elite</td>\n    </tr>\n    <tr>\n      <th>162</th>\n      <td>BMW 530e</td>\n      <td>2.0</td>\n      <td>4</td>\n      <td>SemiAuto-8</td>\n      <td>4WD</td>\n      <td>Gasoline/Electricity</td>\n      <td>CA</td>\n      <td>small car</td>\n      <td>7</td>\n      <td>27/66</td>\n      <td>31/68</td>\n      <td>28/67</td>\n      <td>10</td>\n      <td>Elite</td>\n    </tr>\n    <tr>\n      <th>...</th>\n      <td>...</td>\n      <td>...</td>\n      <td>...</td>\n      <td>...</td>\n      <td>...</td>\n      <td>...</td>\n      <td>...</td>\n      <td>...</td>\n      <td>...</td>\n      <td>...</td>\n      <td>...</td>\n      <td>...</td>\n      <td>...</td>\n      <td>...</td>\n    </tr>\n    <tr>\n      <th>1578</th>\n      <td>VOLVO S90</td>\n      <td>2.0</td>\n      <td>4</td>\n      <td>SemiAuto-8</td>\n      <td>4WD</td>\n      <td>Gasoline/Electricity</td>\n      <td>FA</td>\n      <td>midsize car</td>\n      <td>7</td>\n      <td>26/70</td>\n      <td>33/72</td>\n      <td>29/71</td>\n      <td>10</td>\n      <td>Elite</td>\n    </tr>\n    <tr>\n      <th>1601</th>\n      <td>VOLVO XC 60</td>\n      <td>2.0</td>\n      <td>4</td>\n      <td>SemiAuto-8</td>\n      <td>4WD</td>\n      <td>Gasoline/Electricity</td>\n      <td>CA</td>\n      <td>small SUV</td>\n      <td>7</td>\n      <td>26/60</td>\n      <td>28/58</td>\n      <td>26/59</td>\n      <td>10</td>\n      <td>Elite</td>\n    </tr>\n    <tr>\n      <th>1602</th>\n      <td>VOLVO XC 60</td>\n      <td>2.0</td>\n      <td>4</td>\n      <td>SemiAuto-8</td>\n      <td>4WD</td>\n      <td>Gasoline/Electricity</td>\n      <td>FA</td>\n      <td>small SUV</td>\n      <td>7</td>\n      <td>26/60</td>\n      <td>28/58</td>\n      <td>26/59</td>\n      <td>10</td>\n      <td>Elite</td>\n    </tr>\n    <tr>\n      <th>1609</th>\n      <td>VOLVO XC 90</td>\n      <td>2.0</td>\n      <td>4</td>\n      <td>SemiAuto-8</td>\n      <td>4WD</td>\n      <td>Gasoline/Electricity</td>\n      <td>CA</td>\n      <td>standard SUV</td>\n      <td>7</td>\n      <td>26/63</td>\n      <td>30/61</td>\n      <td>27/62</td>\n      <td>10</td>\n      <td>Elite</td>\n    </tr>\n    <tr>\n      <th>1610</th>\n      <td>VOLVO XC 90</td>\n      <td>2.0</td>\n      <td>4</td>\n      <td>SemiAuto-8</td>\n      <td>4WD</td>\n      <td>Gasoline/Electricity</td>\n      <td>FA</td>\n      <td>standard SUV</td>\n      <td>7</td>\n      <td>26/63</td>\n      <td>30/61</td>\n      <td>27/62</td>\n      <td>10</td>\n      <td>Elite</td>\n    </tr>\n  </tbody>\n</table>\n<p>79 rows × 14 columns</p>\n</div>"
     },
     "execution_count": 48,
     "metadata": {},
     "output_type": "execute_result"
    }
   ],
   "source": [
    "hb_18 = df_18[df_18['fuel'].str.contains('/')]\n",
    "hb_18"
   ],
   "metadata": {
    "collapsed": false,
    "pycharm": {
     "name": "#%%\n"
    }
   }
  },
  {
   "cell_type": "code",
   "execution_count": 49,
   "outputs": [
    {
     "data": {
      "text/plain": "                         model  displ  cyl    trans drive         fuel  \\\n316   CHEVROLET Avalanche 1500    5.3    8  Auto-L4   2WD  ethanol/gas   \n317   CHEVROLET Avalanche 1500    5.3    8  Auto-L4   4WD  ethanol/gas   \n321   CHEVROLET Avalanche 1500    5.3    8  Auto-L4   2WD  ethanol/gas   \n322   CHEVROLET Avalanche 1500    5.3    8  Auto-L4   4WD  ethanol/gas   \n380     CHEVROLET Express 1500    5.3    8  Auto-L4   4WD  ethanol/gas   \n...                        ...    ...  ...      ...   ...          ...   \n1734         MITSUBISHI Raider    4.7    8  Auto-L5   4WD  ethanol/gas   \n1764             NISSAN Armada    5.6    8  Auto-L5   2WD  ethanol/gas   \n1765             NISSAN Armada    5.6    8  Auto-L5   4WD  ethanol/gas   \n1808              NISSAN Titan    5.6    8  Auto-L5   2WD  ethanol/gas   \n1809              NISSAN Titan    5.6    8  Auto-L5   4WD  ethanol/gas   \n\n     cert_region veh_class air_pollution_score city_mpg hwy_mpg cmb_mpg  \\\n316           FC       SUV                 7/7    11/14   15/20   12/16   \n317           FC       SUV                 7/7    11/14   14/19   12/16   \n321           FC       SUV                 6/6    11/14   15/20   12/16   \n322           FC       SUV                 6/6    11/14   14/19   12/16   \n380           FC       van                 6/6     9/12   12/16   10/14   \n...          ...       ...                 ...      ...     ...     ...   \n1734          FA    pickup                 3/3     9/14   12/19   10/15   \n1764          FA       SUV                 6/6     9/12   13/18   10/14   \n1765          FA       SUV                 6/6     9/12   13/17   10/14   \n1808          FA    pickup                 6/6     9/12   13/17   10/14   \n1809          FA    pickup                 6/6     9/12   12/17   10/14   \n\n     greenhouse_gas_score smartway  \n316                   6/4       no  \n317                   6/4       no  \n321                   6/4       no  \n322                   6/4       no  \n380                   4/2       no  \n...                   ...      ...  \n1734                  4/3       no  \n1764                  4/2       no  \n1765                  4/2       no  \n1808                  4/2       no  \n1809                  4/2       no  \n\n[65 rows x 14 columns]",
      "text/html": "<div>\n<style scoped>\n    .dataframe tbody tr th:only-of-type {\n        vertical-align: middle;\n    }\n\n    .dataframe tbody tr th {\n        vertical-align: top;\n    }\n\n    .dataframe thead th {\n        text-align: right;\n    }\n</style>\n<table border=\"1\" class=\"dataframe\">\n  <thead>\n    <tr style=\"text-align: right;\">\n      <th></th>\n      <th>model</th>\n      <th>displ</th>\n      <th>cyl</th>\n      <th>trans</th>\n      <th>drive</th>\n      <th>fuel</th>\n      <th>cert_region</th>\n      <th>veh_class</th>\n      <th>air_pollution_score</th>\n      <th>city_mpg</th>\n      <th>hwy_mpg</th>\n      <th>cmb_mpg</th>\n      <th>greenhouse_gas_score</th>\n      <th>smartway</th>\n    </tr>\n  </thead>\n  <tbody>\n    <tr>\n      <th>316</th>\n      <td>CHEVROLET Avalanche 1500</td>\n      <td>5.3</td>\n      <td>8</td>\n      <td>Auto-L4</td>\n      <td>2WD</td>\n      <td>ethanol/gas</td>\n      <td>FC</td>\n      <td>SUV</td>\n      <td>7/7</td>\n      <td>11/14</td>\n      <td>15/20</td>\n      <td>12/16</td>\n      <td>6/4</td>\n      <td>no</td>\n    </tr>\n    <tr>\n      <th>317</th>\n      <td>CHEVROLET Avalanche 1500</td>\n      <td>5.3</td>\n      <td>8</td>\n      <td>Auto-L4</td>\n      <td>4WD</td>\n      <td>ethanol/gas</td>\n      <td>FC</td>\n      <td>SUV</td>\n      <td>7/7</td>\n      <td>11/14</td>\n      <td>14/19</td>\n      <td>12/16</td>\n      <td>6/4</td>\n      <td>no</td>\n    </tr>\n    <tr>\n      <th>321</th>\n      <td>CHEVROLET Avalanche 1500</td>\n      <td>5.3</td>\n      <td>8</td>\n      <td>Auto-L4</td>\n      <td>2WD</td>\n      <td>ethanol/gas</td>\n      <td>FC</td>\n      <td>SUV</td>\n      <td>6/6</td>\n      <td>11/14</td>\n      <td>15/20</td>\n      <td>12/16</td>\n      <td>6/4</td>\n      <td>no</td>\n    </tr>\n    <tr>\n      <th>322</th>\n      <td>CHEVROLET Avalanche 1500</td>\n      <td>5.3</td>\n      <td>8</td>\n      <td>Auto-L4</td>\n      <td>4WD</td>\n      <td>ethanol/gas</td>\n      <td>FC</td>\n      <td>SUV</td>\n      <td>6/6</td>\n      <td>11/14</td>\n      <td>14/19</td>\n      <td>12/16</td>\n      <td>6/4</td>\n      <td>no</td>\n    </tr>\n    <tr>\n      <th>380</th>\n      <td>CHEVROLET Express 1500</td>\n      <td>5.3</td>\n      <td>8</td>\n      <td>Auto-L4</td>\n      <td>4WD</td>\n      <td>ethanol/gas</td>\n      <td>FC</td>\n      <td>van</td>\n      <td>6/6</td>\n      <td>9/12</td>\n      <td>12/16</td>\n      <td>10/14</td>\n      <td>4/2</td>\n      <td>no</td>\n    </tr>\n    <tr>\n      <th>...</th>\n      <td>...</td>\n      <td>...</td>\n      <td>...</td>\n      <td>...</td>\n      <td>...</td>\n      <td>...</td>\n      <td>...</td>\n      <td>...</td>\n      <td>...</td>\n      <td>...</td>\n      <td>...</td>\n      <td>...</td>\n      <td>...</td>\n      <td>...</td>\n    </tr>\n    <tr>\n      <th>1734</th>\n      <td>MITSUBISHI Raider</td>\n      <td>4.7</td>\n      <td>8</td>\n      <td>Auto-L5</td>\n      <td>4WD</td>\n      <td>ethanol/gas</td>\n      <td>FA</td>\n      <td>pickup</td>\n      <td>3/3</td>\n      <td>9/14</td>\n      <td>12/19</td>\n      <td>10/15</td>\n      <td>4/3</td>\n      <td>no</td>\n    </tr>\n    <tr>\n      <th>1764</th>\n      <td>NISSAN Armada</td>\n      <td>5.6</td>\n      <td>8</td>\n      <td>Auto-L5</td>\n      <td>2WD</td>\n      <td>ethanol/gas</td>\n      <td>FA</td>\n      <td>SUV</td>\n      <td>6/6</td>\n      <td>9/12</td>\n      <td>13/18</td>\n      <td>10/14</td>\n      <td>4/2</td>\n      <td>no</td>\n    </tr>\n    <tr>\n      <th>1765</th>\n      <td>NISSAN Armada</td>\n      <td>5.6</td>\n      <td>8</td>\n      <td>Auto-L5</td>\n      <td>4WD</td>\n      <td>ethanol/gas</td>\n      <td>FA</td>\n      <td>SUV</td>\n      <td>6/6</td>\n      <td>9/12</td>\n      <td>13/17</td>\n      <td>10/14</td>\n      <td>4/2</td>\n      <td>no</td>\n    </tr>\n    <tr>\n      <th>1808</th>\n      <td>NISSAN Titan</td>\n      <td>5.6</td>\n      <td>8</td>\n      <td>Auto-L5</td>\n      <td>2WD</td>\n      <td>ethanol/gas</td>\n      <td>FA</td>\n      <td>pickup</td>\n      <td>6/6</td>\n      <td>9/12</td>\n      <td>13/17</td>\n      <td>10/14</td>\n      <td>4/2</td>\n      <td>no</td>\n    </tr>\n    <tr>\n      <th>1809</th>\n      <td>NISSAN Titan</td>\n      <td>5.6</td>\n      <td>8</td>\n      <td>Auto-L5</td>\n      <td>4WD</td>\n      <td>ethanol/gas</td>\n      <td>FA</td>\n      <td>pickup</td>\n      <td>6/6</td>\n      <td>9/12</td>\n      <td>12/17</td>\n      <td>10/14</td>\n      <td>4/2</td>\n      <td>no</td>\n    </tr>\n  </tbody>\n</table>\n<p>65 rows × 14 columns</p>\n</div>"
     },
     "execution_count": 49,
     "metadata": {},
     "output_type": "execute_result"
    }
   ],
   "source": [
    "df1 = hb_08.copy()\n",
    "df2 = hb_08.copy()\n",
    "\n",
    "df1"
   ],
   "metadata": {
    "collapsed": false,
    "pycharm": {
     "name": "#%%\n"
    }
   }
  },
  {
   "cell_type": "code",
   "execution_count": 50,
   "outputs": [],
   "source": [
    "split_columns = ['fuel', 'air_pollution_score', 'city_mpg', 'hwy_mpg', 'cmb_mpg', 'greenhouse_gas_score']\n",
    "\n",
    "for c in split_columns:\n",
    "    df1[c] = df1[c].apply(lambda x: x.split(\"/\")[0])\n",
    "    df2[c] = df2[c].apply(lambda x: x.split(\"/\")[1])"
   ],
   "metadata": {
    "collapsed": false,
    "pycharm": {
     "name": "#%%\n"
    }
   }
  },
  {
   "cell_type": "code",
   "execution_count": 51,
   "outputs": [
    {
     "data": {
      "text/plain": "                         model  displ  cyl    trans drive     fuel  \\\n316   CHEVROLET Avalanche 1500    5.3    8  Auto-L4   2WD  ethanol   \n317   CHEVROLET Avalanche 1500    5.3    8  Auto-L4   4WD  ethanol   \n321   CHEVROLET Avalanche 1500    5.3    8  Auto-L4   2WD  ethanol   \n322   CHEVROLET Avalanche 1500    5.3    8  Auto-L4   4WD  ethanol   \n380     CHEVROLET Express 1500    5.3    8  Auto-L4   4WD  ethanol   \n...                        ...    ...  ...      ...   ...      ...   \n1734         MITSUBISHI Raider    4.7    8  Auto-L5   4WD  ethanol   \n1764             NISSAN Armada    5.6    8  Auto-L5   2WD  ethanol   \n1765             NISSAN Armada    5.6    8  Auto-L5   4WD  ethanol   \n1808              NISSAN Titan    5.6    8  Auto-L5   2WD  ethanol   \n1809              NISSAN Titan    5.6    8  Auto-L5   4WD  ethanol   \n\n     cert_region veh_class air_pollution_score city_mpg hwy_mpg cmb_mpg  \\\n316           FC       SUV                   7       11      15      12   \n317           FC       SUV                   7       11      14      12   \n321           FC       SUV                   6       11      15      12   \n322           FC       SUV                   6       11      14      12   \n380           FC       van                   6        9      12      10   \n...          ...       ...                 ...      ...     ...     ...   \n1734          FA    pickup                   3        9      12      10   \n1764          FA       SUV                   6        9      13      10   \n1765          FA       SUV                   6        9      13      10   \n1808          FA    pickup                   6        9      13      10   \n1809          FA    pickup                   6        9      12      10   \n\n     greenhouse_gas_score smartway  \n316                     6       no  \n317                     6       no  \n321                     6       no  \n322                     6       no  \n380                     4       no  \n...                   ...      ...  \n1734                    4       no  \n1764                    4       no  \n1765                    4       no  \n1808                    4       no  \n1809                    4       no  \n\n[65 rows x 14 columns]",
      "text/html": "<div>\n<style scoped>\n    .dataframe tbody tr th:only-of-type {\n        vertical-align: middle;\n    }\n\n    .dataframe tbody tr th {\n        vertical-align: top;\n    }\n\n    .dataframe thead th {\n        text-align: right;\n    }\n</style>\n<table border=\"1\" class=\"dataframe\">\n  <thead>\n    <tr style=\"text-align: right;\">\n      <th></th>\n      <th>model</th>\n      <th>displ</th>\n      <th>cyl</th>\n      <th>trans</th>\n      <th>drive</th>\n      <th>fuel</th>\n      <th>cert_region</th>\n      <th>veh_class</th>\n      <th>air_pollution_score</th>\n      <th>city_mpg</th>\n      <th>hwy_mpg</th>\n      <th>cmb_mpg</th>\n      <th>greenhouse_gas_score</th>\n      <th>smartway</th>\n    </tr>\n  </thead>\n  <tbody>\n    <tr>\n      <th>316</th>\n      <td>CHEVROLET Avalanche 1500</td>\n      <td>5.3</td>\n      <td>8</td>\n      <td>Auto-L4</td>\n      <td>2WD</td>\n      <td>ethanol</td>\n      <td>FC</td>\n      <td>SUV</td>\n      <td>7</td>\n      <td>11</td>\n      <td>15</td>\n      <td>12</td>\n      <td>6</td>\n      <td>no</td>\n    </tr>\n    <tr>\n      <th>317</th>\n      <td>CHEVROLET Avalanche 1500</td>\n      <td>5.3</td>\n      <td>8</td>\n      <td>Auto-L4</td>\n      <td>4WD</td>\n      <td>ethanol</td>\n      <td>FC</td>\n      <td>SUV</td>\n      <td>7</td>\n      <td>11</td>\n      <td>14</td>\n      <td>12</td>\n      <td>6</td>\n      <td>no</td>\n    </tr>\n    <tr>\n      <th>321</th>\n      <td>CHEVROLET Avalanche 1500</td>\n      <td>5.3</td>\n      <td>8</td>\n      <td>Auto-L4</td>\n      <td>2WD</td>\n      <td>ethanol</td>\n      <td>FC</td>\n      <td>SUV</td>\n      <td>6</td>\n      <td>11</td>\n      <td>15</td>\n      <td>12</td>\n      <td>6</td>\n      <td>no</td>\n    </tr>\n    <tr>\n      <th>322</th>\n      <td>CHEVROLET Avalanche 1500</td>\n      <td>5.3</td>\n      <td>8</td>\n      <td>Auto-L4</td>\n      <td>4WD</td>\n      <td>ethanol</td>\n      <td>FC</td>\n      <td>SUV</td>\n      <td>6</td>\n      <td>11</td>\n      <td>14</td>\n      <td>12</td>\n      <td>6</td>\n      <td>no</td>\n    </tr>\n    <tr>\n      <th>380</th>\n      <td>CHEVROLET Express 1500</td>\n      <td>5.3</td>\n      <td>8</td>\n      <td>Auto-L4</td>\n      <td>4WD</td>\n      <td>ethanol</td>\n      <td>FC</td>\n      <td>van</td>\n      <td>6</td>\n      <td>9</td>\n      <td>12</td>\n      <td>10</td>\n      <td>4</td>\n      <td>no</td>\n    </tr>\n    <tr>\n      <th>...</th>\n      <td>...</td>\n      <td>...</td>\n      <td>...</td>\n      <td>...</td>\n      <td>...</td>\n      <td>...</td>\n      <td>...</td>\n      <td>...</td>\n      <td>...</td>\n      <td>...</td>\n      <td>...</td>\n      <td>...</td>\n      <td>...</td>\n      <td>...</td>\n    </tr>\n    <tr>\n      <th>1734</th>\n      <td>MITSUBISHI Raider</td>\n      <td>4.7</td>\n      <td>8</td>\n      <td>Auto-L5</td>\n      <td>4WD</td>\n      <td>ethanol</td>\n      <td>FA</td>\n      <td>pickup</td>\n      <td>3</td>\n      <td>9</td>\n      <td>12</td>\n      <td>10</td>\n      <td>4</td>\n      <td>no</td>\n    </tr>\n    <tr>\n      <th>1764</th>\n      <td>NISSAN Armada</td>\n      <td>5.6</td>\n      <td>8</td>\n      <td>Auto-L5</td>\n      <td>2WD</td>\n      <td>ethanol</td>\n      <td>FA</td>\n      <td>SUV</td>\n      <td>6</td>\n      <td>9</td>\n      <td>13</td>\n      <td>10</td>\n      <td>4</td>\n      <td>no</td>\n    </tr>\n    <tr>\n      <th>1765</th>\n      <td>NISSAN Armada</td>\n      <td>5.6</td>\n      <td>8</td>\n      <td>Auto-L5</td>\n      <td>4WD</td>\n      <td>ethanol</td>\n      <td>FA</td>\n      <td>SUV</td>\n      <td>6</td>\n      <td>9</td>\n      <td>13</td>\n      <td>10</td>\n      <td>4</td>\n      <td>no</td>\n    </tr>\n    <tr>\n      <th>1808</th>\n      <td>NISSAN Titan</td>\n      <td>5.6</td>\n      <td>8</td>\n      <td>Auto-L5</td>\n      <td>2WD</td>\n      <td>ethanol</td>\n      <td>FA</td>\n      <td>pickup</td>\n      <td>6</td>\n      <td>9</td>\n      <td>13</td>\n      <td>10</td>\n      <td>4</td>\n      <td>no</td>\n    </tr>\n    <tr>\n      <th>1809</th>\n      <td>NISSAN Titan</td>\n      <td>5.6</td>\n      <td>8</td>\n      <td>Auto-L5</td>\n      <td>4WD</td>\n      <td>ethanol</td>\n      <td>FA</td>\n      <td>pickup</td>\n      <td>6</td>\n      <td>9</td>\n      <td>12</td>\n      <td>10</td>\n      <td>4</td>\n      <td>no</td>\n    </tr>\n  </tbody>\n</table>\n<p>65 rows × 14 columns</p>\n</div>"
     },
     "execution_count": 51,
     "metadata": {},
     "output_type": "execute_result"
    }
   ],
   "source": [
    "df1"
   ],
   "metadata": {
    "collapsed": false,
    "pycharm": {
     "name": "#%%\n"
    }
   }
  },
  {
   "cell_type": "code",
   "execution_count": 52,
   "outputs": [
    {
     "data": {
      "text/plain": "                         model  displ  cyl    trans drive fuel cert_region  \\\n316   CHEVROLET Avalanche 1500    5.3    8  Auto-L4   2WD  gas          FC   \n317   CHEVROLET Avalanche 1500    5.3    8  Auto-L4   4WD  gas          FC   \n321   CHEVROLET Avalanche 1500    5.3    8  Auto-L4   2WD  gas          FC   \n322   CHEVROLET Avalanche 1500    5.3    8  Auto-L4   4WD  gas          FC   \n380     CHEVROLET Express 1500    5.3    8  Auto-L4   4WD  gas          FC   \n...                        ...    ...  ...      ...   ...  ...         ...   \n1734         MITSUBISHI Raider    4.7    8  Auto-L5   4WD  gas          FA   \n1764             NISSAN Armada    5.6    8  Auto-L5   2WD  gas          FA   \n1765             NISSAN Armada    5.6    8  Auto-L5   4WD  gas          FA   \n1808              NISSAN Titan    5.6    8  Auto-L5   2WD  gas          FA   \n1809              NISSAN Titan    5.6    8  Auto-L5   4WD  gas          FA   \n\n     veh_class air_pollution_score city_mpg hwy_mpg cmb_mpg  \\\n316        SUV                   7       14      20      16   \n317        SUV                   7       14      19      16   \n321        SUV                   6       14      20      16   \n322        SUV                   6       14      19      16   \n380        van                   6       12      16      14   \n...        ...                 ...      ...     ...     ...   \n1734    pickup                   3       14      19      15   \n1764       SUV                   6       12      18      14   \n1765       SUV                   6       12      17      14   \n1808    pickup                   6       12      17      14   \n1809    pickup                   6       12      17      14   \n\n     greenhouse_gas_score smartway  \n316                     4       no  \n317                     4       no  \n321                     4       no  \n322                     4       no  \n380                     2       no  \n...                   ...      ...  \n1734                    3       no  \n1764                    2       no  \n1765                    2       no  \n1808                    2       no  \n1809                    2       no  \n\n[65 rows x 14 columns]",
      "text/html": "<div>\n<style scoped>\n    .dataframe tbody tr th:only-of-type {\n        vertical-align: middle;\n    }\n\n    .dataframe tbody tr th {\n        vertical-align: top;\n    }\n\n    .dataframe thead th {\n        text-align: right;\n    }\n</style>\n<table border=\"1\" class=\"dataframe\">\n  <thead>\n    <tr style=\"text-align: right;\">\n      <th></th>\n      <th>model</th>\n      <th>displ</th>\n      <th>cyl</th>\n      <th>trans</th>\n      <th>drive</th>\n      <th>fuel</th>\n      <th>cert_region</th>\n      <th>veh_class</th>\n      <th>air_pollution_score</th>\n      <th>city_mpg</th>\n      <th>hwy_mpg</th>\n      <th>cmb_mpg</th>\n      <th>greenhouse_gas_score</th>\n      <th>smartway</th>\n    </tr>\n  </thead>\n  <tbody>\n    <tr>\n      <th>316</th>\n      <td>CHEVROLET Avalanche 1500</td>\n      <td>5.3</td>\n      <td>8</td>\n      <td>Auto-L4</td>\n      <td>2WD</td>\n      <td>gas</td>\n      <td>FC</td>\n      <td>SUV</td>\n      <td>7</td>\n      <td>14</td>\n      <td>20</td>\n      <td>16</td>\n      <td>4</td>\n      <td>no</td>\n    </tr>\n    <tr>\n      <th>317</th>\n      <td>CHEVROLET Avalanche 1500</td>\n      <td>5.3</td>\n      <td>8</td>\n      <td>Auto-L4</td>\n      <td>4WD</td>\n      <td>gas</td>\n      <td>FC</td>\n      <td>SUV</td>\n      <td>7</td>\n      <td>14</td>\n      <td>19</td>\n      <td>16</td>\n      <td>4</td>\n      <td>no</td>\n    </tr>\n    <tr>\n      <th>321</th>\n      <td>CHEVROLET Avalanche 1500</td>\n      <td>5.3</td>\n      <td>8</td>\n      <td>Auto-L4</td>\n      <td>2WD</td>\n      <td>gas</td>\n      <td>FC</td>\n      <td>SUV</td>\n      <td>6</td>\n      <td>14</td>\n      <td>20</td>\n      <td>16</td>\n      <td>4</td>\n      <td>no</td>\n    </tr>\n    <tr>\n      <th>322</th>\n      <td>CHEVROLET Avalanche 1500</td>\n      <td>5.3</td>\n      <td>8</td>\n      <td>Auto-L4</td>\n      <td>4WD</td>\n      <td>gas</td>\n      <td>FC</td>\n      <td>SUV</td>\n      <td>6</td>\n      <td>14</td>\n      <td>19</td>\n      <td>16</td>\n      <td>4</td>\n      <td>no</td>\n    </tr>\n    <tr>\n      <th>380</th>\n      <td>CHEVROLET Express 1500</td>\n      <td>5.3</td>\n      <td>8</td>\n      <td>Auto-L4</td>\n      <td>4WD</td>\n      <td>gas</td>\n      <td>FC</td>\n      <td>van</td>\n      <td>6</td>\n      <td>12</td>\n      <td>16</td>\n      <td>14</td>\n      <td>2</td>\n      <td>no</td>\n    </tr>\n    <tr>\n      <th>...</th>\n      <td>...</td>\n      <td>...</td>\n      <td>...</td>\n      <td>...</td>\n      <td>...</td>\n      <td>...</td>\n      <td>...</td>\n      <td>...</td>\n      <td>...</td>\n      <td>...</td>\n      <td>...</td>\n      <td>...</td>\n      <td>...</td>\n      <td>...</td>\n    </tr>\n    <tr>\n      <th>1734</th>\n      <td>MITSUBISHI Raider</td>\n      <td>4.7</td>\n      <td>8</td>\n      <td>Auto-L5</td>\n      <td>4WD</td>\n      <td>gas</td>\n      <td>FA</td>\n      <td>pickup</td>\n      <td>3</td>\n      <td>14</td>\n      <td>19</td>\n      <td>15</td>\n      <td>3</td>\n      <td>no</td>\n    </tr>\n    <tr>\n      <th>1764</th>\n      <td>NISSAN Armada</td>\n      <td>5.6</td>\n      <td>8</td>\n      <td>Auto-L5</td>\n      <td>2WD</td>\n      <td>gas</td>\n      <td>FA</td>\n      <td>SUV</td>\n      <td>6</td>\n      <td>12</td>\n      <td>18</td>\n      <td>14</td>\n      <td>2</td>\n      <td>no</td>\n    </tr>\n    <tr>\n      <th>1765</th>\n      <td>NISSAN Armada</td>\n      <td>5.6</td>\n      <td>8</td>\n      <td>Auto-L5</td>\n      <td>4WD</td>\n      <td>gas</td>\n      <td>FA</td>\n      <td>SUV</td>\n      <td>6</td>\n      <td>12</td>\n      <td>17</td>\n      <td>14</td>\n      <td>2</td>\n      <td>no</td>\n    </tr>\n    <tr>\n      <th>1808</th>\n      <td>NISSAN Titan</td>\n      <td>5.6</td>\n      <td>8</td>\n      <td>Auto-L5</td>\n      <td>2WD</td>\n      <td>gas</td>\n      <td>FA</td>\n      <td>pickup</td>\n      <td>6</td>\n      <td>12</td>\n      <td>17</td>\n      <td>14</td>\n      <td>2</td>\n      <td>no</td>\n    </tr>\n    <tr>\n      <th>1809</th>\n      <td>NISSAN Titan</td>\n      <td>5.6</td>\n      <td>8</td>\n      <td>Auto-L5</td>\n      <td>4WD</td>\n      <td>gas</td>\n      <td>FA</td>\n      <td>pickup</td>\n      <td>6</td>\n      <td>12</td>\n      <td>17</td>\n      <td>14</td>\n      <td>2</td>\n      <td>no</td>\n    </tr>\n  </tbody>\n</table>\n<p>65 rows × 14 columns</p>\n</div>"
     },
     "execution_count": 52,
     "metadata": {},
     "output_type": "execute_result"
    }
   ],
   "source": [
    "df2"
   ],
   "metadata": {
    "collapsed": false,
    "pycharm": {
     "name": "#%%\n"
    }
   }
  },
  {
   "cell_type": "code",
   "execution_count": 53,
   "outputs": [
    {
     "data": {
      "text/plain": "                         model  displ  cyl    trans drive     fuel  \\\n316   CHEVROLET Avalanche 1500    5.3    8  Auto-L4   2WD  ethanol   \n317   CHEVROLET Avalanche 1500    5.3    8  Auto-L4   4WD  ethanol   \n321   CHEVROLET Avalanche 1500    5.3    8  Auto-L4   2WD  ethanol   \n322   CHEVROLET Avalanche 1500    5.3    8  Auto-L4   4WD  ethanol   \n380     CHEVROLET Express 1500    5.3    8  Auto-L4   4WD  ethanol   \n...                        ...    ...  ...      ...   ...      ...   \n1734         MITSUBISHI Raider    4.7    8  Auto-L5   4WD      gas   \n1764             NISSAN Armada    5.6    8  Auto-L5   2WD      gas   \n1765             NISSAN Armada    5.6    8  Auto-L5   4WD      gas   \n1808              NISSAN Titan    5.6    8  Auto-L5   2WD      gas   \n1809              NISSAN Titan    5.6    8  Auto-L5   4WD      gas   \n\n     cert_region veh_class air_pollution_score city_mpg hwy_mpg cmb_mpg  \\\n316           FC       SUV                   7       11      15      12   \n317           FC       SUV                   7       11      14      12   \n321           FC       SUV                   6       11      15      12   \n322           FC       SUV                   6       11      14      12   \n380           FC       van                   6        9      12      10   \n...          ...       ...                 ...      ...     ...     ...   \n1734          FA    pickup                   3       14      19      15   \n1764          FA       SUV                   6       12      18      14   \n1765          FA       SUV                   6       12      17      14   \n1808          FA    pickup                   6       12      17      14   \n1809          FA    pickup                   6       12      17      14   \n\n     greenhouse_gas_score smartway  \n316                     6       no  \n317                     6       no  \n321                     6       no  \n322                     6       no  \n380                     4       no  \n...                   ...      ...  \n1734                    3       no  \n1764                    2       no  \n1765                    2       no  \n1808                    2       no  \n1809                    2       no  \n\n[130 rows x 14 columns]",
      "text/html": "<div>\n<style scoped>\n    .dataframe tbody tr th:only-of-type {\n        vertical-align: middle;\n    }\n\n    .dataframe tbody tr th {\n        vertical-align: top;\n    }\n\n    .dataframe thead th {\n        text-align: right;\n    }\n</style>\n<table border=\"1\" class=\"dataframe\">\n  <thead>\n    <tr style=\"text-align: right;\">\n      <th></th>\n      <th>model</th>\n      <th>displ</th>\n      <th>cyl</th>\n      <th>trans</th>\n      <th>drive</th>\n      <th>fuel</th>\n      <th>cert_region</th>\n      <th>veh_class</th>\n      <th>air_pollution_score</th>\n      <th>city_mpg</th>\n      <th>hwy_mpg</th>\n      <th>cmb_mpg</th>\n      <th>greenhouse_gas_score</th>\n      <th>smartway</th>\n    </tr>\n  </thead>\n  <tbody>\n    <tr>\n      <th>316</th>\n      <td>CHEVROLET Avalanche 1500</td>\n      <td>5.3</td>\n      <td>8</td>\n      <td>Auto-L4</td>\n      <td>2WD</td>\n      <td>ethanol</td>\n      <td>FC</td>\n      <td>SUV</td>\n      <td>7</td>\n      <td>11</td>\n      <td>15</td>\n      <td>12</td>\n      <td>6</td>\n      <td>no</td>\n    </tr>\n    <tr>\n      <th>317</th>\n      <td>CHEVROLET Avalanche 1500</td>\n      <td>5.3</td>\n      <td>8</td>\n      <td>Auto-L4</td>\n      <td>4WD</td>\n      <td>ethanol</td>\n      <td>FC</td>\n      <td>SUV</td>\n      <td>7</td>\n      <td>11</td>\n      <td>14</td>\n      <td>12</td>\n      <td>6</td>\n      <td>no</td>\n    </tr>\n    <tr>\n      <th>321</th>\n      <td>CHEVROLET Avalanche 1500</td>\n      <td>5.3</td>\n      <td>8</td>\n      <td>Auto-L4</td>\n      <td>2WD</td>\n      <td>ethanol</td>\n      <td>FC</td>\n      <td>SUV</td>\n      <td>6</td>\n      <td>11</td>\n      <td>15</td>\n      <td>12</td>\n      <td>6</td>\n      <td>no</td>\n    </tr>\n    <tr>\n      <th>322</th>\n      <td>CHEVROLET Avalanche 1500</td>\n      <td>5.3</td>\n      <td>8</td>\n      <td>Auto-L4</td>\n      <td>4WD</td>\n      <td>ethanol</td>\n      <td>FC</td>\n      <td>SUV</td>\n      <td>6</td>\n      <td>11</td>\n      <td>14</td>\n      <td>12</td>\n      <td>6</td>\n      <td>no</td>\n    </tr>\n    <tr>\n      <th>380</th>\n      <td>CHEVROLET Express 1500</td>\n      <td>5.3</td>\n      <td>8</td>\n      <td>Auto-L4</td>\n      <td>4WD</td>\n      <td>ethanol</td>\n      <td>FC</td>\n      <td>van</td>\n      <td>6</td>\n      <td>9</td>\n      <td>12</td>\n      <td>10</td>\n      <td>4</td>\n      <td>no</td>\n    </tr>\n    <tr>\n      <th>...</th>\n      <td>...</td>\n      <td>...</td>\n      <td>...</td>\n      <td>...</td>\n      <td>...</td>\n      <td>...</td>\n      <td>...</td>\n      <td>...</td>\n      <td>...</td>\n      <td>...</td>\n      <td>...</td>\n      <td>...</td>\n      <td>...</td>\n      <td>...</td>\n    </tr>\n    <tr>\n      <th>1734</th>\n      <td>MITSUBISHI Raider</td>\n      <td>4.7</td>\n      <td>8</td>\n      <td>Auto-L5</td>\n      <td>4WD</td>\n      <td>gas</td>\n      <td>FA</td>\n      <td>pickup</td>\n      <td>3</td>\n      <td>14</td>\n      <td>19</td>\n      <td>15</td>\n      <td>3</td>\n      <td>no</td>\n    </tr>\n    <tr>\n      <th>1764</th>\n      <td>NISSAN Armada</td>\n      <td>5.6</td>\n      <td>8</td>\n      <td>Auto-L5</td>\n      <td>2WD</td>\n      <td>gas</td>\n      <td>FA</td>\n      <td>SUV</td>\n      <td>6</td>\n      <td>12</td>\n      <td>18</td>\n      <td>14</td>\n      <td>2</td>\n      <td>no</td>\n    </tr>\n    <tr>\n      <th>1765</th>\n      <td>NISSAN Armada</td>\n      <td>5.6</td>\n      <td>8</td>\n      <td>Auto-L5</td>\n      <td>4WD</td>\n      <td>gas</td>\n      <td>FA</td>\n      <td>SUV</td>\n      <td>6</td>\n      <td>12</td>\n      <td>17</td>\n      <td>14</td>\n      <td>2</td>\n      <td>no</td>\n    </tr>\n    <tr>\n      <th>1808</th>\n      <td>NISSAN Titan</td>\n      <td>5.6</td>\n      <td>8</td>\n      <td>Auto-L5</td>\n      <td>2WD</td>\n      <td>gas</td>\n      <td>FA</td>\n      <td>pickup</td>\n      <td>6</td>\n      <td>12</td>\n      <td>17</td>\n      <td>14</td>\n      <td>2</td>\n      <td>no</td>\n    </tr>\n    <tr>\n      <th>1809</th>\n      <td>NISSAN Titan</td>\n      <td>5.6</td>\n      <td>8</td>\n      <td>Auto-L5</td>\n      <td>4WD</td>\n      <td>gas</td>\n      <td>FA</td>\n      <td>pickup</td>\n      <td>6</td>\n      <td>12</td>\n      <td>17</td>\n      <td>14</td>\n      <td>2</td>\n      <td>no</td>\n    </tr>\n  </tbody>\n</table>\n<p>130 rows × 14 columns</p>\n</div>"
     },
     "execution_count": 53,
     "metadata": {},
     "output_type": "execute_result"
    }
   ],
   "source": [
    "new_rows = df1.append(df2)\n",
    "new_rows"
   ],
   "metadata": {
    "collapsed": false,
    "pycharm": {
     "name": "#%%\n"
    }
   }
  },
  {
   "cell_type": "code",
   "execution_count": 54,
   "outputs": [],
   "source": [
    "df_08.drop(hb_08.index, inplace=True)\n",
    "\n",
    "df_08 = df_08.append(new_rows, ignore_index=True)"
   ],
   "metadata": {
    "collapsed": false,
    "pycharm": {
     "name": "#%%\n"
    }
   }
  },
  {
   "cell_type": "code",
   "execution_count": 55,
   "outputs": [
    {
     "data": {
      "text/plain": "Empty DataFrame\nColumns: [model, displ, cyl, trans, drive, fuel, cert_region, veh_class, air_pollution_score, city_mpg, hwy_mpg, cmb_mpg, greenhouse_gas_score, smartway]\nIndex: []",
      "text/html": "<div>\n<style scoped>\n    .dataframe tbody tr th:only-of-type {\n        vertical-align: middle;\n    }\n\n    .dataframe tbody tr th {\n        vertical-align: top;\n    }\n\n    .dataframe thead th {\n        text-align: right;\n    }\n</style>\n<table border=\"1\" class=\"dataframe\">\n  <thead>\n    <tr style=\"text-align: right;\">\n      <th></th>\n      <th>model</th>\n      <th>displ</th>\n      <th>cyl</th>\n      <th>trans</th>\n      <th>drive</th>\n      <th>fuel</th>\n      <th>cert_region</th>\n      <th>veh_class</th>\n      <th>air_pollution_score</th>\n      <th>city_mpg</th>\n      <th>hwy_mpg</th>\n      <th>cmb_mpg</th>\n      <th>greenhouse_gas_score</th>\n      <th>smartway</th>\n    </tr>\n  </thead>\n  <tbody>\n  </tbody>\n</table>\n</div>"
     },
     "execution_count": 55,
     "metadata": {},
     "output_type": "execute_result"
    }
   ],
   "source": [
    "df_08[df_08['fuel'].str.contains('/')]"
   ],
   "metadata": {
    "collapsed": false,
    "pycharm": {
     "name": "#%%\n"
    }
   }
  },
  {
   "cell_type": "code",
   "execution_count": 56,
   "outputs": [],
   "source": [
    "df_08.air_pollution_score = df_08.air_pollution_score.astype(float)"
   ],
   "metadata": {
    "collapsed": false,
    "pycharm": {
     "name": "#%%\n"
    }
   }
  },
  {
   "cell_type": "code",
   "execution_count": 56,
   "outputs": [],
   "source": [],
   "metadata": {
    "collapsed": false,
    "pycharm": {
     "name": "#%%\n"
    }
   }
  },
  {
   "cell_type": "code",
   "execution_count": 57,
   "outputs": [
    {
     "data": {
      "text/plain": "            model  displ  cyl       trans drive                  fuel  \\\n108      BMW 330e    2.0    4  SemiAuto-8   2WD  Gasoline/Electricity   \n109      BMW 330e    2.0    4  SemiAuto-8   2WD  Gasoline/Electricity   \n160      BMW 530e    2.0    4  SemiAuto-8   2WD  Gasoline/Electricity   \n161      BMW 530e    2.0    4  SemiAuto-8   2WD  Gasoline/Electricity   \n162      BMW 530e    2.0    4  SemiAuto-8   4WD  Gasoline/Electricity   \n...           ...    ...  ...         ...   ...                   ...   \n1578    VOLVO S90    2.0    4  SemiAuto-8   4WD  Gasoline/Electricity   \n1601  VOLVO XC 60    2.0    4  SemiAuto-8   4WD  Gasoline/Electricity   \n1602  VOLVO XC 60    2.0    4  SemiAuto-8   4WD  Gasoline/Electricity   \n1609  VOLVO XC 90    2.0    4  SemiAuto-8   4WD  Gasoline/Electricity   \n1610  VOLVO XC 90    2.0    4  SemiAuto-8   4WD  Gasoline/Electricity   \n\n     cert_region     veh_class  air_pollution_score city_mpg hwy_mpg cmb_mpg  \\\n108           CA     small car                    3    28/66   34/78   30/71   \n109           FA     small car                    3    28/66   34/78   30/71   \n160           CA     small car                    7    27/70   31/75   29/72   \n161           FA     small car                    7    27/70   31/75   29/72   \n162           CA     small car                    7    27/66   31/68   28/67   \n...          ...           ...                  ...      ...     ...     ...   \n1578          FA   midsize car                    7    26/70   33/72   29/71   \n1601          CA     small SUV                    7    26/60   28/58   26/59   \n1602          FA     small SUV                    7    26/60   28/58   26/59   \n1609          CA  standard SUV                    7    26/63   30/61   27/62   \n1610          FA  standard SUV                    7    26/63   30/61   27/62   \n\n      greenhouse_gas_score smartway  \n108                     10      Yes  \n109                     10      Yes  \n160                     10    Elite  \n161                     10    Elite  \n162                     10    Elite  \n...                    ...      ...  \n1578                    10    Elite  \n1601                    10    Elite  \n1602                    10    Elite  \n1609                    10    Elite  \n1610                    10    Elite  \n\n[79 rows x 14 columns]",
      "text/html": "<div>\n<style scoped>\n    .dataframe tbody tr th:only-of-type {\n        vertical-align: middle;\n    }\n\n    .dataframe tbody tr th {\n        vertical-align: top;\n    }\n\n    .dataframe thead th {\n        text-align: right;\n    }\n</style>\n<table border=\"1\" class=\"dataframe\">\n  <thead>\n    <tr style=\"text-align: right;\">\n      <th></th>\n      <th>model</th>\n      <th>displ</th>\n      <th>cyl</th>\n      <th>trans</th>\n      <th>drive</th>\n      <th>fuel</th>\n      <th>cert_region</th>\n      <th>veh_class</th>\n      <th>air_pollution_score</th>\n      <th>city_mpg</th>\n      <th>hwy_mpg</th>\n      <th>cmb_mpg</th>\n      <th>greenhouse_gas_score</th>\n      <th>smartway</th>\n    </tr>\n  </thead>\n  <tbody>\n    <tr>\n      <th>108</th>\n      <td>BMW 330e</td>\n      <td>2.0</td>\n      <td>4</td>\n      <td>SemiAuto-8</td>\n      <td>2WD</td>\n      <td>Gasoline/Electricity</td>\n      <td>CA</td>\n      <td>small car</td>\n      <td>3</td>\n      <td>28/66</td>\n      <td>34/78</td>\n      <td>30/71</td>\n      <td>10</td>\n      <td>Yes</td>\n    </tr>\n    <tr>\n      <th>109</th>\n      <td>BMW 330e</td>\n      <td>2.0</td>\n      <td>4</td>\n      <td>SemiAuto-8</td>\n      <td>2WD</td>\n      <td>Gasoline/Electricity</td>\n      <td>FA</td>\n      <td>small car</td>\n      <td>3</td>\n      <td>28/66</td>\n      <td>34/78</td>\n      <td>30/71</td>\n      <td>10</td>\n      <td>Yes</td>\n    </tr>\n    <tr>\n      <th>160</th>\n      <td>BMW 530e</td>\n      <td>2.0</td>\n      <td>4</td>\n      <td>SemiAuto-8</td>\n      <td>2WD</td>\n      <td>Gasoline/Electricity</td>\n      <td>CA</td>\n      <td>small car</td>\n      <td>7</td>\n      <td>27/70</td>\n      <td>31/75</td>\n      <td>29/72</td>\n      <td>10</td>\n      <td>Elite</td>\n    </tr>\n    <tr>\n      <th>161</th>\n      <td>BMW 530e</td>\n      <td>2.0</td>\n      <td>4</td>\n      <td>SemiAuto-8</td>\n      <td>2WD</td>\n      <td>Gasoline/Electricity</td>\n      <td>FA</td>\n      <td>small car</td>\n      <td>7</td>\n      <td>27/70</td>\n      <td>31/75</td>\n      <td>29/72</td>\n      <td>10</td>\n      <td>Elite</td>\n    </tr>\n    <tr>\n      <th>162</th>\n      <td>BMW 530e</td>\n      <td>2.0</td>\n      <td>4</td>\n      <td>SemiAuto-8</td>\n      <td>4WD</td>\n      <td>Gasoline/Electricity</td>\n      <td>CA</td>\n      <td>small car</td>\n      <td>7</td>\n      <td>27/66</td>\n      <td>31/68</td>\n      <td>28/67</td>\n      <td>10</td>\n      <td>Elite</td>\n    </tr>\n    <tr>\n      <th>...</th>\n      <td>...</td>\n      <td>...</td>\n      <td>...</td>\n      <td>...</td>\n      <td>...</td>\n      <td>...</td>\n      <td>...</td>\n      <td>...</td>\n      <td>...</td>\n      <td>...</td>\n      <td>...</td>\n      <td>...</td>\n      <td>...</td>\n      <td>...</td>\n    </tr>\n    <tr>\n      <th>1578</th>\n      <td>VOLVO S90</td>\n      <td>2.0</td>\n      <td>4</td>\n      <td>SemiAuto-8</td>\n      <td>4WD</td>\n      <td>Gasoline/Electricity</td>\n      <td>FA</td>\n      <td>midsize car</td>\n      <td>7</td>\n      <td>26/70</td>\n      <td>33/72</td>\n      <td>29/71</td>\n      <td>10</td>\n      <td>Elite</td>\n    </tr>\n    <tr>\n      <th>1601</th>\n      <td>VOLVO XC 60</td>\n      <td>2.0</td>\n      <td>4</td>\n      <td>SemiAuto-8</td>\n      <td>4WD</td>\n      <td>Gasoline/Electricity</td>\n      <td>CA</td>\n      <td>small SUV</td>\n      <td>7</td>\n      <td>26/60</td>\n      <td>28/58</td>\n      <td>26/59</td>\n      <td>10</td>\n      <td>Elite</td>\n    </tr>\n    <tr>\n      <th>1602</th>\n      <td>VOLVO XC 60</td>\n      <td>2.0</td>\n      <td>4</td>\n      <td>SemiAuto-8</td>\n      <td>4WD</td>\n      <td>Gasoline/Electricity</td>\n      <td>FA</td>\n      <td>small SUV</td>\n      <td>7</td>\n      <td>26/60</td>\n      <td>28/58</td>\n      <td>26/59</td>\n      <td>10</td>\n      <td>Elite</td>\n    </tr>\n    <tr>\n      <th>1609</th>\n      <td>VOLVO XC 90</td>\n      <td>2.0</td>\n      <td>4</td>\n      <td>SemiAuto-8</td>\n      <td>4WD</td>\n      <td>Gasoline/Electricity</td>\n      <td>CA</td>\n      <td>standard SUV</td>\n      <td>7</td>\n      <td>26/63</td>\n      <td>30/61</td>\n      <td>27/62</td>\n      <td>10</td>\n      <td>Elite</td>\n    </tr>\n    <tr>\n      <th>1610</th>\n      <td>VOLVO XC 90</td>\n      <td>2.0</td>\n      <td>4</td>\n      <td>SemiAuto-8</td>\n      <td>4WD</td>\n      <td>Gasoline/Electricity</td>\n      <td>FA</td>\n      <td>standard SUV</td>\n      <td>7</td>\n      <td>26/63</td>\n      <td>30/61</td>\n      <td>27/62</td>\n      <td>10</td>\n      <td>Elite</td>\n    </tr>\n  </tbody>\n</table>\n<p>79 rows × 14 columns</p>\n</div>"
     },
     "execution_count": 57,
     "metadata": {},
     "output_type": "execute_result"
    }
   ],
   "source": [
    "df1 = hb_18.copy()\n",
    "df2 = hb_18.copy()\n",
    "\n",
    "df1"
   ],
   "metadata": {
    "collapsed": false,
    "pycharm": {
     "name": "#%%\n"
    }
   }
  },
  {
   "cell_type": "code",
   "execution_count": 58,
   "outputs": [],
   "source": [
    "split_columns = ['fuel', 'city_mpg', 'hwy_mpg', 'cmb_mpg']\n",
    "\n",
    "for c in split_columns:\n",
    "    df1[c] = df1[c].apply(lambda x: x.split(\"/\")[0])\n",
    "    df2[c] = df2[c].apply(lambda x: x.split(\"/\")[1])"
   ],
   "metadata": {
    "collapsed": false,
    "pycharm": {
     "name": "#%%\n"
    }
   }
  },
  {
   "cell_type": "code",
   "execution_count": 59,
   "outputs": [],
   "source": [
    "new_rows = df1.append(df2)\n",
    "df_18.drop(hb_18.index, inplace=True)\n",
    "df_18 = df_18.append(new_rows, ignore_index=True)"
   ],
   "metadata": {
    "collapsed": false,
    "pycharm": {
     "name": "#%%\n"
    }
   }
  },
  {
   "cell_type": "code",
   "execution_count": 60,
   "outputs": [
    {
     "data": {
      "text/plain": "Empty DataFrame\nColumns: [model, displ, cyl, trans, drive, fuel, cert_region, veh_class, air_pollution_score, city_mpg, hwy_mpg, cmb_mpg, greenhouse_gas_score, smartway]\nIndex: []",
      "text/html": "<div>\n<style scoped>\n    .dataframe tbody tr th:only-of-type {\n        vertical-align: middle;\n    }\n\n    .dataframe tbody tr th {\n        vertical-align: top;\n    }\n\n    .dataframe thead th {\n        text-align: right;\n    }\n</style>\n<table border=\"1\" class=\"dataframe\">\n  <thead>\n    <tr style=\"text-align: right;\">\n      <th></th>\n      <th>model</th>\n      <th>displ</th>\n      <th>cyl</th>\n      <th>trans</th>\n      <th>drive</th>\n      <th>fuel</th>\n      <th>cert_region</th>\n      <th>veh_class</th>\n      <th>air_pollution_score</th>\n      <th>city_mpg</th>\n      <th>hwy_mpg</th>\n      <th>cmb_mpg</th>\n      <th>greenhouse_gas_score</th>\n      <th>smartway</th>\n    </tr>\n  </thead>\n  <tbody>\n  </tbody>\n</table>\n</div>"
     },
     "execution_count": 60,
     "metadata": {},
     "output_type": "execute_result"
    }
   ],
   "source": [
    "df_18[df_18['fuel'].str.contains('/')]"
   ],
   "metadata": {
    "collapsed": false,
    "pycharm": {
     "name": "#%%\n"
    }
   }
  },
  {
   "cell_type": "code",
   "execution_count": 61,
   "outputs": [],
   "source": [
    "df_18.air_pollution_score = df_18.air_pollution_score.astype(float)"
   ],
   "metadata": {
    "collapsed": false,
    "pycharm": {
     "name": "#%%\n"
    }
   }
  },
  {
   "cell_type": "markdown",
   "source": [
    "## Fix `city_mpg`, `hwy_mpg`, `cmb_mpg` datatypes"
   ],
   "metadata": {
    "collapsed": false
   }
  },
  {
   "cell_type": "code",
   "execution_count": 62,
   "outputs": [
    {
     "data": {
      "text/plain": "dtype('float64')"
     },
     "execution_count": 62,
     "metadata": {},
     "output_type": "execute_result"
    }
   ],
   "source": [
    "# convert mpg columns to floats\n",
    "mpg_columns = [x for x in df_08.columns if x.endswith('mpg')]\n",
    "for c in mpg_columns:\n",
    "    df_18[c] = df_18[c].astype(float)\n",
    "    df_08[c] = df_08[c].astype(float)\n",
    "\n",
    "df_08[mpg_columns[0]].dtype"
   ],
   "metadata": {
    "collapsed": false,
    "pycharm": {
     "name": "#%%\n"
    }
   }
  },
  {
   "cell_type": "markdown",
   "source": [
    "## Fix `greenhouse_gas_score` datatype"
   ],
   "metadata": {
    "collapsed": false
   }
  },
  {
   "cell_type": "code",
   "execution_count": 63,
   "outputs": [],
   "source": [
    "df_08['greenhouse_gas_score'] = df_08['greenhouse_gas_score'].astype(np.int64)"
   ],
   "metadata": {
    "collapsed": false,
    "pycharm": {
     "name": "#%%\n"
    }
   }
  },
  {
   "cell_type": "markdown",
   "source": [
    "### Check to confirm all the changes"
   ],
   "metadata": {
    "collapsed": false
   }
  },
  {
   "cell_type": "code",
   "execution_count": 64,
   "outputs": [
    {
     "data": {
      "text/plain": "model                   True\ndispl                   True\ncyl                     True\ntrans                   True\ndrive                   True\nfuel                    True\ncert_region             True\nveh_class               True\nair_pollution_score     True\ncity_mpg                True\nhwy_mpg                 True\ncmb_mpg                 True\ngreenhouse_gas_score    True\nsmartway                True\ndtype: bool"
     },
     "execution_count": 64,
     "metadata": {},
     "output_type": "execute_result"
    }
   ],
   "source": [
    "df_08.dtypes == df_18.dtypes"
   ],
   "metadata": {
    "collapsed": false,
    "pycharm": {
     "name": "#%%\n"
    }
   }
  },
  {
   "cell_type": "markdown",
   "source": [
    "## Exploring Visuals"
   ],
   "metadata": {
    "collapsed": false
   }
  },
  {
   "cell_type": "code",
   "execution_count": 65,
   "outputs": [
    {
     "data": {
      "text/plain": "<matplotlib.axes._subplots.AxesSubplot at 0x18a1d421320>"
     },
     "execution_count": 65,
     "metadata": {},
     "output_type": "execute_result"
    },
    {
     "data": {
      "text/plain": "<Figure size 432x288 with 1 Axes>",
      "image/png": "[encoded data removed]"
     },
     "metadata": {
      "needs_background": "light"
     },
     "output_type": "display_data"
    }
   ],
   "source": [
    "df_08.greenhouse_gas_score.hist()"
   ],
   "metadata": {
    "collapsed": false,
    "pycharm": {
     "name": "#%%\n"
    }
   }
  },
  {
   "cell_type": "code",
   "execution_count": 66,
   "outputs": [
    {
     "data": {
      "text/plain": "<matplotlib.axes._subplots.AxesSubplot at 0x18a25509550>"
     },
     "execution_count": 66,
     "metadata": {},
     "output_type": "execute_result"
    },
    {
     "data": {
      "text/plain": "<Figure size 432x288 with 1 Axes>",
      "image/png": "[encoded data removed]"
     },
     "metadata": {
      "needs_background": "light"
     },
     "output_type": "display_data"
    }
   ],
   "source": [
    "df_18.greenhouse_gas_score.hist()"
   ],
   "metadata": {
    "collapsed": false,
    "pycharm": {
     "name": "#%%\n"
    }
   }
  },
  {
   "cell_type": "code",
   "execution_count": 66,
   "outputs": [],
   "source": [],
   "metadata": {
    "collapsed": false,
    "pycharm": {
     "name": "#%%\n"
    }
   }
  },
  {
   "cell_type": "code",
   "execution_count": 67,
   "outputs": [
    {
     "data": {
      "text/plain": "<matplotlib.axes._subplots.AxesSubplot at 0x18a2558e0b8>"
     },
     "execution_count": 67,
     "metadata": {},
     "output_type": "execute_result"
    },
    {
     "data": {
      "text/plain": "<Figure size 432x288 with 1 Axes>",
      "image/png": "[encoded data removed]"
     },
     "metadata": {
      "needs_background": "light"
     },
     "output_type": "display_data"
    }
   ],
   "source": [
    "df_08['cmb_mpg'].hist()"
   ],
   "metadata": {
    "collapsed": false,
    "pycharm": {
     "name": "#%%\n"
    }
   }
  },
  {
   "cell_type": "code",
   "execution_count": 68,
   "outputs": [
    {
     "data": {
      "text/plain": "<matplotlib.axes._subplots.AxesSubplot at 0x18a25628b00>"
     },
     "execution_count": 68,
     "metadata": {},
     "output_type": "execute_result"
    },
    {
     "data": {
      "text/plain": "<Figure size 432x288 with 1 Axes>",
      "image/png": "[encoded data removed]"
     },
     "metadata": {
      "needs_background": "light"
     },
     "output_type": "display_data"
    }
   ],
   "source": [
    "df_18.cmb_mpg.hist()"
   ],
   "metadata": {
    "collapsed": false,
    "pycharm": {
     "name": "#%%\n"
    }
   }
  },
  {
   "cell_type": "code",
   "execution_count": 68,
   "outputs": [],
   "source": [],
   "metadata": {
    "collapsed": false,
    "pycharm": {
     "name": "#%%\n"
    }
   }
  },
  {
   "cell_type": "code",
   "execution_count": 69,
   "outputs": [
    {
     "data": {
      "text/plain": "<matplotlib.axes._subplots.AxesSubplot at 0x18a25694b38>"
     },
     "execution_count": 69,
     "metadata": {},
     "output_type": "execute_result"
    },
    {
     "data": {
      "text/plain": "<Figure size 432x288 with 1 Axes>",
      "image/png": "[encoded data removed]"
     },
     "metadata": {
      "needs_background": "light"
     },
     "output_type": "display_data"
    }
   ],
   "source": [
    "df_08.plot.scatter(x=\"displ\", y='cmb_mpg')"
   ],
   "metadata": {
    "collapsed": false,
    "pycharm": {
     "name": "#%%\n"
    }
   }
  },
  {
   "cell_type": "code",
   "execution_count": 69,
   "outputs": [],
   "source": [],
   "metadata": {
    "collapsed": false,
    "pycharm": {
     "name": "#%%\n"
    }
   }
  },
  {
   "cell_type": "code",
   "execution_count": 70,
   "outputs": [
    {
     "data": {
      "text/plain": "<matplotlib.axes._subplots.AxesSubplot at 0x18a25716898>"
     },
     "execution_count": 70,
     "metadata": {},
     "output_type": "execute_result"
    },
    {
     "data": {
      "text/plain": "<Figure size 432x288 with 1 Axes>",
      "image/png": "[encoded data removed]"
     },
     "metadata": {
      "needs_background": "light"
     },
     "output_type": "display_data"
    }
   ],
   "source": [
    "df_08.plot.scatter(x=\"greenhouse_gas_score\", y='cmb_mpg')"
   ],
   "metadata": {
    "collapsed": false,
    "pycharm": {
     "name": "#%%\n"
    }
   }
  },
  {
   "cell_type": "markdown",
   "source": [
    "## Asking some questions"
   ],
   "metadata": {
    "collapsed": false
   }
  },
  {
   "cell_type": "markdown",
   "source": [
    "#### Q1: Are more unique models using alternative sources of fuel? By how much?"
   ],
   "metadata": {
    "collapsed": false
   }
  },
  {
   "cell_type": "code",
   "execution_count": 71,
   "outputs": [
    {
     "data": {
      "text/plain": "Gasoline    2067\nethanol       66\ngas           65\ndiesel         7\nCNG            2\nName: fuel, dtype: int64"
     },
     "execution_count": 71,
     "metadata": {},
     "output_type": "execute_result"
    }
   ],
   "source": [
    "df_08.fuel.value_counts()"
   ],
   "metadata": {
    "collapsed": false,
    "pycharm": {
     "name": "#%%\n"
    }
   }
  },
  {
   "cell_type": "code",
   "execution_count": 72,
   "outputs": [
    {
     "data": {
      "text/plain": "Gasoline       1511\nEthanol          55\nGas              55\nDiesel           38\nElectricity      24\nName: fuel, dtype: int64"
     },
     "execution_count": 72,
     "metadata": {},
     "output_type": "execute_result"
    }
   ],
   "source": [
    "df_18.fuel.value_counts()"
   ],
   "metadata": {
    "collapsed": false,
    "pycharm": {
     "name": "#%%\n"
    }
   }
  },
  {
   "cell_type": "code",
   "execution_count": 73,
   "outputs": [
    {
     "data": {
      "text/plain": "33"
     },
     "execution_count": 73,
     "metadata": {},
     "output_type": "execute_result"
    }
   ],
   "source": [
    "alt_08 = df_08.query('fuel in [\"CNG\", \"ethanol\"]').model.nunique()\n",
    "alt_08"
   ],
   "metadata": {
    "collapsed": false,
    "pycharm": {
     "name": "#%%\n"
    }
   }
  },
  {
   "cell_type": "code",
   "execution_count": 74,
   "outputs": [
    {
     "data": {
      "text/plain": "28"
     },
     "execution_count": 74,
     "metadata": {},
     "output_type": "execute_result"
    }
   ],
   "source": [
    "alt_18 = df_18[(df_18['fuel'] == \"Ethanol\") | (df_18['fuel'] == \"Electricity\")]['model'].nunique()\n",
    "alt_18"
   ],
   "metadata": {
    "collapsed": false,
    "pycharm": {
     "name": "#%%\n"
    }
   }
  },
  {
   "cell_type": "code",
   "execution_count": 75,
   "outputs": [
    {
     "data": {
      "text/plain": "Text(0, 0.5, 'Number of Unique Models')"
     },
     "execution_count": 75,
     "metadata": {},
     "output_type": "execute_result"
    },
    {
     "data": {
      "text/plain": "<Figure size 432x288 with 1 Axes>",
      "image/png": "[encoded data removed]"
     },
     "metadata": {
      "needs_background": "light"
     },
     "output_type": "display_data"
    }
   ],
   "source": [
    "plt.bar([\"2008\", \"2018\"], [alt_08, alt_18])\n",
    "plt.title(\"Number of Unique Models Using Alternative Fuels\")\n",
    "plt.xlabel(\"Year\")\n",
    "plt.ylabel(\"Number of Unique Models\")"
   ],
   "metadata": {
    "collapsed": false,
    "pycharm": {
     "name": "#%%\n"
    }
   }
  },
  {
   "cell_type": "code",
   "execution_count": 75,
   "outputs": [],
   "source": [],
   "metadata": {
    "collapsed": false,
    "pycharm": {
     "name": "#%%\n"
    }
   }
  },
  {
   "cell_type": "code",
   "execution_count": 76,
   "outputs": [
    {
     "data": {
      "text/plain": "(411, 366)"
     },
     "execution_count": 76,
     "metadata": {},
     "output_type": "execute_result"
    }
   ],
   "source": [
    "# total unique models each year\n",
    "total_08 = df_08.model.nunique()\n",
    "total_18 = df_18.model.nunique()\n",
    "total_08, total_18"
   ],
   "metadata": {
    "collapsed": false,
    "pycharm": {
     "name": "#%%\n"
    }
   }
  },
  {
   "cell_type": "code",
   "execution_count": 77,
   "outputs": [
    {
     "data": {
      "text/plain": "(0.08029197080291971, 0.07650273224043716)"
     },
     "execution_count": 77,
     "metadata": {},
     "output_type": "execute_result"
    }
   ],
   "source": [
    "prop_08 = alt_08/total_08\n",
    "prop_18 = alt_18/total_18\n",
    "prop_08, prop_18"
   ],
   "metadata": {
    "collapsed": false,
    "pycharm": {
     "name": "#%%\n"
    }
   }
  },
  {
   "cell_type": "code",
   "execution_count": 78,
   "outputs": [
    {
     "data": {
      "text/plain": "<Figure size 432x288 with 1 Axes>",
      "image/png": "[encoded data removed]"
     },
     "metadata": {
      "needs_background": "light"
     },
     "output_type": "display_data"
    }
   ],
   "source": [
    "plt.bar([\"2008\", \"2018\"], [prop_08, prop_18])\n",
    "plt.title(\"Proportion of Unique Models Using Alternative Fuels\")\n",
    "plt.xlabel(\"Year\")\n",
    "plt.ylabel(\"Proportion of Unique Models\");"
   ],
   "metadata": {
    "collapsed": false,
    "pycharm": {
     "name": "#%%\n"
    }
   }
  },
  {
   "cell_type": "markdown",
   "source": [
    "#### Q2: How much have vehicle classes improved in fuel economy?"
   ],
   "metadata": {
    "collapsed": false
   }
  },
  {
   "cell_type": "code",
   "execution_count": 79,
   "outputs": [
    {
     "data": {
      "text/plain": "veh_class\nSUV              17.920807\nlarge car        18.323308\nmidsize car      21.395604\nminivan          18.666667\npickup           16.060837\nsmall car        21.054896\nstation wagon    22.349593\nvan              14.206897\nName: cmb_mpg, dtype: float64"
     },
     "execution_count": 79,
     "metadata": {},
     "output_type": "execute_result"
    }
   ],
   "source": [
    "veh_08 = df_08.groupby('veh_class').cmb_mpg.mean()\n",
    "veh_08"
   ],
   "metadata": {
    "collapsed": false,
    "pycharm": {
     "name": "#%%\n"
    }
   }
  },
  {
   "cell_type": "code",
   "execution_count": 80,
   "outputs": [
    {
     "data": {
      "text/plain": "veh_class\nlarge car          23.372881\nmidsize car        27.849462\nminivan            20.800000\npickup             18.589744\nsmall SUV          23.986364\nsmall car          25.388889\nspecial purpose    18.666667\nstandard SUV       18.197674\nstation wagon      27.434783\nName: cmb_mpg, dtype: float64"
     },
     "execution_count": 80,
     "metadata": {},
     "output_type": "execute_result"
    }
   ],
   "source": [
    "veh_18 = df_18.groupby('veh_class').cmb_mpg.mean()\n",
    "veh_18"
   ],
   "metadata": {
    "collapsed": false,
    "pycharm": {
     "name": "#%%\n"
    }
   }
  },
  {
   "cell_type": "code",
   "execution_count": 81,
   "outputs": [
    {
     "data": {
      "text/plain": "veh_class\nSUV                     NaN\nlarge car          5.049573\nmidsize car        6.453858\nminivan            2.133333\npickup             2.528907\nsmall SUV               NaN\nsmall car          4.333993\nspecial purpose         NaN\nstandard SUV            NaN\nstation wagon      5.085189\nvan                     NaN\nName: cmb_mpg, dtype: float64"
     },
     "execution_count": 81,
     "metadata": {},
     "output_type": "execute_result"
    }
   ],
   "source": [
    "# how much they've increased by for each vehicle class\n",
    "inc = veh_18 - veh_08\n",
    "inc"
   ],
   "metadata": {
    "collapsed": false,
    "pycharm": {
     "name": "#%%\n"
    }
   }
  },
  {
   "cell_type": "code",
   "execution_count": 82,
   "outputs": [
    {
     "data": {
      "text/plain": "<Figure size 576x360 with 1 Axes>",
      "image/png": "[encoded data removed]"
     },
     "metadata": {
      "needs_background": "light"
     },
     "output_type": "display_data"
    }
   ],
   "source": [
    "inc.dropna(inplace=True)\n",
    "plt.subplots(figsize=(8, 5))\n",
    "plt.bar(inc.index, inc)\n",
    "plt.title('Improvements in Fuel Economy from 2008 to 2018 by Vehicle Class')\n",
    "plt.xlabel('Vehicle Class')\n",
    "plt.ylabel('Increase in Average Combined MPG');"
   ],
   "metadata": {
    "collapsed": false,
    "pycharm": {
     "name": "#%%\n"
    }
   }
  },
  {
   "cell_type": "markdown",
   "source": [
    "#### Q3: What are the characteristics of SmartWay vehicles? Have they changed over time?"
   ],
   "metadata": {
    "collapsed": false
   }
  },
  {
   "cell_type": "code",
   "execution_count": 83,
   "outputs": [
    {
     "data": {
      "text/plain": "(array(['no', 'yes'], dtype=object),\n array(['No', 'Yes', 'Elite'], dtype=object))"
     },
     "execution_count": 83,
     "metadata": {},
     "output_type": "execute_result"
    }
   ],
   "source": [
    "df_08.smartway.unique(), df_18.smartway.unique()"
   ],
   "metadata": {
    "collapsed": false,
    "pycharm": {
     "name": "#%%\n"
    }
   }
  },
  {
   "cell_type": "code",
   "execution_count": 84,
   "outputs": [],
   "source": [
    "smart_08 = df_08.query('smartway == \"yes\"')\n",
    "smart_18 = df_18.query('smartway in [\"Yes\", \"Elite\"]')"
   ],
   "metadata": {
    "collapsed": false,
    "pycharm": {
     "name": "#%%\n"
    }
   }
  },
  {
   "cell_type": "code",
   "execution_count": 85,
   "outputs": [
    {
     "data": {
      "text/plain": "            displ         cyl  air_pollution_score   city_mpg     hwy_mpg  \\\ncount  625.000000  625.000000            625.00000  625.00000  625.000000   \nmean     2.492320    4.664000              6.99680   21.45760   28.880000   \nstd      0.584993    0.934935              1.14459    3.49751    3.091552   \nmin      1.300000    4.000000              6.00000   17.00000   22.000000   \n25%      2.000000    4.000000              6.00000   20.00000   27.000000   \n50%      2.400000    4.000000              7.00000   21.00000   29.000000   \n75%      2.700000    6.000000              7.00000   23.00000   31.000000   \nmax      5.000000    8.000000              9.50000   48.00000   45.000000   \n\n          cmb_mpg  greenhouse_gas_score  \ncount  625.000000            625.000000  \nmean    24.201600              7.027200  \nstd      3.086519              0.803176  \nmin     20.000000              6.000000  \n25%     22.000000              6.000000  \n50%     24.000000              7.000000  \n75%     25.000000              7.000000  \nmax     46.000000             10.000000  ",
      "text/html": "<div>\n<style scoped>\n    .dataframe tbody tr th:only-of-type {\n        vertical-align: middle;\n    }\n\n    .dataframe tbody tr th {\n        vertical-align: top;\n    }\n\n    .dataframe thead th {\n        text-align: right;\n    }\n</style>\n<table border=\"1\" class=\"dataframe\">\n  <thead>\n    <tr style=\"text-align: right;\">\n      <th></th>\n      <th>displ</th>\n      <th>cyl</th>\n      <th>air_pollution_score</th>\n      <th>city_mpg</th>\n      <th>hwy_mpg</th>\n      <th>cmb_mpg</th>\n      <th>greenhouse_gas_score</th>\n    </tr>\n  </thead>\n  <tbody>\n    <tr>\n      <th>count</th>\n      <td>625.000000</td>\n      <td>625.000000</td>\n      <td>625.00000</td>\n      <td>625.00000</td>\n      <td>625.000000</td>\n      <td>625.000000</td>\n      <td>625.000000</td>\n    </tr>\n    <tr>\n      <th>mean</th>\n      <td>2.492320</td>\n      <td>4.664000</td>\n      <td>6.99680</td>\n      <td>21.45760</td>\n      <td>28.880000</td>\n      <td>24.201600</td>\n      <td>7.027200</td>\n    </tr>\n    <tr>\n      <th>std</th>\n      <td>0.584993</td>\n      <td>0.934935</td>\n      <td>1.14459</td>\n      <td>3.49751</td>\n      <td>3.091552</td>\n      <td>3.086519</td>\n      <td>0.803176</td>\n    </tr>\n    <tr>\n      <th>min</th>\n      <td>1.300000</td>\n      <td>4.000000</td>\n      <td>6.00000</td>\n      <td>17.00000</td>\n      <td>22.000000</td>\n      <td>20.000000</td>\n      <td>6.000000</td>\n    </tr>\n    <tr>\n      <th>25%</th>\n      <td>2.000000</td>\n      <td>4.000000</td>\n      <td>6.00000</td>\n      <td>20.00000</td>\n      <td>27.000000</td>\n      <td>22.000000</td>\n      <td>6.000000</td>\n    </tr>\n    <tr>\n      <th>50%</th>\n      <td>2.400000</td>\n      <td>4.000000</td>\n      <td>7.00000</td>\n      <td>21.00000</td>\n      <td>29.000000</td>\n      <td>24.000000</td>\n      <td>7.000000</td>\n    </tr>\n    <tr>\n      <th>75%</th>\n      <td>2.700000</td>\n      <td>6.000000</td>\n      <td>7.00000</td>\n      <td>23.00000</td>\n      <td>31.000000</td>\n      <td>25.000000</td>\n      <td>7.000000</td>\n    </tr>\n    <tr>\n      <th>max</th>\n      <td>5.000000</td>\n      <td>8.000000</td>\n      <td>9.50000</td>\n      <td>48.00000</td>\n      <td>45.000000</td>\n      <td>46.000000</td>\n      <td>10.000000</td>\n    </tr>\n  </tbody>\n</table>\n</div>"
     },
     "execution_count": 85,
     "metadata": {},
     "output_type": "execute_result"
    }
   ],
   "source": [
    "smart_08.describe()"
   ],
   "metadata": {
    "collapsed": false,
    "pycharm": {
     "name": "#%%\n"
    }
   }
  },
  {
   "cell_type": "code",
   "execution_count": 86,
   "outputs": [
    {
     "data": {
      "text/plain": "            displ         cyl  air_pollution_score    city_mpg     hwy_mpg  \\\ncount  216.000000  216.000000           216.000000  216.000000  216.000000   \nmean     1.787963    3.935185             5.194444   34.907407   41.472222   \nstd      0.407081    0.415360             1.780819   16.393724   13.064746   \nmin      1.200000    3.000000             3.000000   25.000000   27.000000   \n25%      1.500000    4.000000             3.000000   28.000000   36.000000   \n50%      1.700000    4.000000             5.500000   28.500000   37.000000   \n75%      2.000000    4.000000             7.000000   31.250000   40.250000   \nmax      3.500000    6.000000             7.000000  113.000000   99.000000   \n\n          cmb_mpg  greenhouse_gas_score  \ncount  216.000000            216.000000  \nmean    37.361111              7.925926  \nstd     14.813858              1.194590  \nmin     26.000000              7.000000  \n25%     31.000000              7.000000  \n50%     32.000000              7.000000  \n75%     35.000000              9.000000  \nmax    106.000000             10.000000  ",
      "text/html": "<div>\n<style scoped>\n    .dataframe tbody tr th:only-of-type {\n        vertical-align: middle;\n    }\n\n    .dataframe tbody tr th {\n        vertical-align: top;\n    }\n\n    .dataframe thead th {\n        text-align: right;\n    }\n</style>\n<table border=\"1\" class=\"dataframe\">\n  <thead>\n    <tr style=\"text-align: right;\">\n      <th></th>\n      <th>displ</th>\n      <th>cyl</th>\n      <th>air_pollution_score</th>\n      <th>city_mpg</th>\n      <th>hwy_mpg</th>\n      <th>cmb_mpg</th>\n      <th>greenhouse_gas_score</th>\n    </tr>\n  </thead>\n  <tbody>\n    <tr>\n      <th>count</th>\n      <td>216.000000</td>\n      <td>216.000000</td>\n      <td>216.000000</td>\n      <td>216.000000</td>\n      <td>216.000000</td>\n      <td>216.000000</td>\n      <td>216.000000</td>\n    </tr>\n    <tr>\n      <th>mean</th>\n      <td>1.787963</td>\n      <td>3.935185</td>\n      <td>5.194444</td>\n      <td>34.907407</td>\n      <td>41.472222</td>\n      <td>37.361111</td>\n      <td>7.925926</td>\n    </tr>\n    <tr>\n      <th>std</th>\n      <td>0.407081</td>\n      <td>0.415360</td>\n      <td>1.780819</td>\n      <td>16.393724</td>\n      <td>13.064746</td>\n      <td>14.813858</td>\n      <td>1.194590</td>\n    </tr>\n    <tr>\n      <th>min</th>\n      <td>1.200000</td>\n      <td>3.000000</td>\n      <td>3.000000</td>\n      <td>25.000000</td>\n      <td>27.000000</td>\n      <td>26.000000</td>\n      <td>7.000000</td>\n    </tr>\n    <tr>\n      <th>25%</th>\n      <td>1.500000</td>\n      <td>4.000000</td>\n      <td>3.000000</td>\n      <td>28.000000</td>\n      <td>36.000000</td>\n      <td>31.000000</td>\n      <td>7.000000</td>\n    </tr>\n    <tr>\n      <th>50%</th>\n      <td>1.700000</td>\n      <td>4.000000</td>\n      <td>5.500000</td>\n      <td>28.500000</td>\n      <td>37.000000</td>\n      <td>32.000000</td>\n      <td>7.000000</td>\n    </tr>\n    <tr>\n      <th>75%</th>\n      <td>2.000000</td>\n      <td>4.000000</td>\n      <td>7.000000</td>\n      <td>31.250000</td>\n      <td>40.250000</td>\n      <td>35.000000</td>\n      <td>9.000000</td>\n    </tr>\n    <tr>\n      <th>max</th>\n      <td>3.500000</td>\n      <td>6.000000</td>\n      <td>7.000000</td>\n      <td>113.000000</td>\n      <td>99.000000</td>\n      <td>106.000000</td>\n      <td>10.000000</td>\n    </tr>\n  </tbody>\n</table>\n</div>"
     },
     "execution_count": 86,
     "metadata": {},
     "output_type": "execute_result"
    }
   ],
   "source": [
    "smart_18.describe()"
   ],
   "metadata": {
    "collapsed": false,
    "pycharm": {
     "name": "#%%\n"
    }
   }
  },
  {
   "cell_type": "markdown",
   "source": [
    "#### Q4: What features are associated with better fuel economy?"
   ],
   "metadata": {
    "collapsed": false
   }
  },
  {
   "cell_type": "code",
   "execution_count": 87,
   "outputs": [
    {
     "data": {
      "text/plain": "             displ          cyl  air_pollution_score     city_mpg  \\\ncount  1048.000000  1048.000000          1048.000000  1048.000000   \nmean      2.663931     4.887405             6.557252    20.249046   \nstd       0.674432     1.034604             1.102253     3.172229   \nmin       1.300000     4.000000             1.000000    17.000000   \n25%       2.300000     4.000000             6.000000    18.000000   \n50%       2.500000     4.000000             6.000000    20.000000   \n75%       3.000000     6.000000             7.000000    21.000000   \nmax       6.000000     8.000000             9.500000    48.000000   \n\n           hwy_mpg      cmb_mpg  greenhouse_gas_score  \ncount  1048.000000  1048.000000           1048.000000  \nmean     27.547710    22.921756              6.615458  \nstd       3.069027     2.919418              0.810644  \nmin      20.000000    20.000000              4.000000  \n25%      25.000000    21.000000              6.000000  \n50%      27.000000    22.000000              6.000000  \n75%      29.000000    24.000000              7.000000  \nmax      45.000000    46.000000             10.000000  ",
      "text/html": "<div>\n<style scoped>\n    .dataframe tbody tr th:only-of-type {\n        vertical-align: middle;\n    }\n\n    .dataframe tbody tr th {\n        vertical-align: top;\n    }\n\n    .dataframe thead th {\n        text-align: right;\n    }\n</style>\n<table border=\"1\" class=\"dataframe\">\n  <thead>\n    <tr style=\"text-align: right;\">\n      <th></th>\n      <th>displ</th>\n      <th>cyl</th>\n      <th>air_pollution_score</th>\n      <th>city_mpg</th>\n      <th>hwy_mpg</th>\n      <th>cmb_mpg</th>\n      <th>greenhouse_gas_score</th>\n    </tr>\n  </thead>\n  <tbody>\n    <tr>\n      <th>count</th>\n      <td>1048.000000</td>\n      <td>1048.000000</td>\n      <td>1048.000000</td>\n      <td>1048.000000</td>\n      <td>1048.000000</td>\n      <td>1048.000000</td>\n      <td>1048.000000</td>\n    </tr>\n    <tr>\n      <th>mean</th>\n      <td>2.663931</td>\n      <td>4.887405</td>\n      <td>6.557252</td>\n      <td>20.249046</td>\n      <td>27.547710</td>\n      <td>22.921756</td>\n      <td>6.615458</td>\n    </tr>\n    <tr>\n      <th>std</th>\n      <td>0.674432</td>\n      <td>1.034604</td>\n      <td>1.102253</td>\n      <td>3.172229</td>\n      <td>3.069027</td>\n      <td>2.919418</td>\n      <td>0.810644</td>\n    </tr>\n    <tr>\n      <th>min</th>\n      <td>1.300000</td>\n      <td>4.000000</td>\n      <td>1.000000</td>\n      <td>17.000000</td>\n      <td>20.000000</td>\n      <td>20.000000</td>\n      <td>4.000000</td>\n    </tr>\n    <tr>\n      <th>25%</th>\n      <td>2.300000</td>\n      <td>4.000000</td>\n      <td>6.000000</td>\n      <td>18.000000</td>\n      <td>25.000000</td>\n      <td>21.000000</td>\n      <td>6.000000</td>\n    </tr>\n    <tr>\n      <th>50%</th>\n      <td>2.500000</td>\n      <td>4.000000</td>\n      <td>6.000000</td>\n      <td>20.000000</td>\n      <td>27.000000</td>\n      <td>22.000000</td>\n      <td>6.000000</td>\n    </tr>\n    <tr>\n      <th>75%</th>\n      <td>3.000000</td>\n      <td>6.000000</td>\n      <td>7.000000</td>\n      <td>21.000000</td>\n      <td>29.000000</td>\n      <td>24.000000</td>\n      <td>7.000000</td>\n    </tr>\n    <tr>\n      <th>max</th>\n      <td>6.000000</td>\n      <td>8.000000</td>\n      <td>9.500000</td>\n      <td>48.000000</td>\n      <td>45.000000</td>\n      <td>46.000000</td>\n      <td>10.000000</td>\n    </tr>\n  </tbody>\n</table>\n</div>"
     },
     "execution_count": 87,
     "metadata": {},
     "output_type": "execute_result"
    }
   ],
   "source": [
    "top_08 = df_08.query('cmb_mpg > cmb_mpg.mean()')\n",
    "top_08.describe()"
   ],
   "metadata": {
    "collapsed": false,
    "pycharm": {
     "name": "#%%\n"
    }
   }
  },
  {
   "cell_type": "code",
   "execution_count": 88,
   "outputs": [
    {
     "data": {
      "text/plain": "            displ         cyl  air_pollution_score    city_mpg     hwy_mpg  \\\ncount  765.000000  765.000000           765.000000  765.000000  765.000000   \nmean     2.060131    4.164706             4.683660   26.592157   34.384314   \nstd      0.483597    0.672231             1.864327   10.437721    8.663051   \nmin      1.200000    3.000000             1.000000   20.000000   27.000000   \n25%      1.800000    4.000000             3.000000   22.000000   30.000000   \n50%      2.000000    4.000000             5.000000   24.000000   32.000000   \n75%      2.000000    4.000000             7.000000   27.000000   36.000000   \nmax      3.600000    6.000000             7.000000  113.000000   99.000000   \n\n          cmb_mpg  greenhouse_gas_score  \ncount  765.000000            765.000000  \nmean    29.504575              6.141176  \nstd      9.590519              1.384636  \nmin     24.000000              4.000000  \n25%     25.000000              5.000000  \n50%     27.000000              6.000000  \n75%     30.000000              7.000000  \nmax    106.000000             10.000000  ",
      "text/html": "<div>\n<style scoped>\n    .dataframe tbody tr th:only-of-type {\n        vertical-align: middle;\n    }\n\n    .dataframe tbody tr th {\n        vertical-align: top;\n    }\n\n    .dataframe thead th {\n        text-align: right;\n    }\n</style>\n<table border=\"1\" class=\"dataframe\">\n  <thead>\n    <tr style=\"text-align: right;\">\n      <th></th>\n      <th>displ</th>\n      <th>cyl</th>\n      <th>air_pollution_score</th>\n      <th>city_mpg</th>\n      <th>hwy_mpg</th>\n      <th>cmb_mpg</th>\n      <th>greenhouse_gas_score</th>\n    </tr>\n  </thead>\n  <tbody>\n    <tr>\n      <th>count</th>\n      <td>765.000000</td>\n      <td>765.000000</td>\n      <td>765.000000</td>\n      <td>765.000000</td>\n      <td>765.000000</td>\n      <td>765.000000</td>\n      <td>765.000000</td>\n    </tr>\n    <tr>\n      <th>mean</th>\n      <td>2.060131</td>\n      <td>4.164706</td>\n      <td>4.683660</td>\n      <td>26.592157</td>\n      <td>34.384314</td>\n      <td>29.504575</td>\n      <td>6.141176</td>\n    </tr>\n    <tr>\n      <th>std</th>\n      <td>0.483597</td>\n      <td>0.672231</td>\n      <td>1.864327</td>\n      <td>10.437721</td>\n      <td>8.663051</td>\n      <td>9.590519</td>\n      <td>1.384636</td>\n    </tr>\n    <tr>\n      <th>min</th>\n      <td>1.200000</td>\n      <td>3.000000</td>\n      <td>1.000000</td>\n      <td>20.000000</td>\n      <td>27.000000</td>\n      <td>24.000000</td>\n      <td>4.000000</td>\n    </tr>\n    <tr>\n      <th>25%</th>\n      <td>1.800000</td>\n      <td>4.000000</td>\n      <td>3.000000</td>\n      <td>22.000000</td>\n      <td>30.000000</td>\n      <td>25.000000</td>\n      <td>5.000000</td>\n    </tr>\n    <tr>\n      <th>50%</th>\n      <td>2.000000</td>\n      <td>4.000000</td>\n      <td>5.000000</td>\n      <td>24.000000</td>\n      <td>32.000000</td>\n      <td>27.000000</td>\n      <td>6.000000</td>\n    </tr>\n    <tr>\n      <th>75%</th>\n      <td>2.000000</td>\n      <td>4.000000</td>\n      <td>7.000000</td>\n      <td>27.000000</td>\n      <td>36.000000</td>\n      <td>30.000000</td>\n      <td>7.000000</td>\n    </tr>\n    <tr>\n      <th>max</th>\n      <td>3.600000</td>\n      <td>6.000000</td>\n      <td>7.000000</td>\n      <td>113.000000</td>\n      <td>99.000000</td>\n      <td>106.000000</td>\n      <td>10.000000</td>\n    </tr>\n  </tbody>\n</table>\n</div>"
     },
     "execution_count": 88,
     "metadata": {},
     "output_type": "execute_result"
    }
   ],
   "source": [
    "top_18 = df_18[df_18['cmb_mpg'] > df_18['cmb_mpg'].mean()]\n",
    "top_18.describe()"
   ],
   "metadata": {
    "collapsed": false,
    "pycharm": {
     "name": "#%%\n"
    }
   }
  },
  {
   "cell_type": "markdown",
   "source": [
    "## Merge Datasets"
   ],
   "metadata": {
    "collapsed": false
   }
  },
  {
   "cell_type": "code",
   "execution_count": 89,
   "outputs": [
    {
     "data": {
      "text/plain": "  model_2008  displ_2008  cyl_2008 trans_2008 drive_2008 fuel_2008  \\\n0  ACURA MDX         3.7         6    Auto-S5        4WD  Gasoline   \n\n  cert_region_2008 veh_class_2008  air_pollution_score_2008  city_mpg_2008  \\\n0               CA            SUV                       7.0           15.0   \n\n   hwy_mpg_2008  cmb_mpg_2008  greenhouse_gas_score_2008 smartway_2008  \n0          20.0          17.0                          4            no  ",
      "text/html": "<div>\n<style scoped>\n    .dataframe tbody tr th:only-of-type {\n        vertical-align: middle;\n    }\n\n    .dataframe tbody tr th {\n        vertical-align: top;\n    }\n\n    .dataframe thead th {\n        text-align: right;\n    }\n</style>\n<table border=\"1\" class=\"dataframe\">\n  <thead>\n    <tr style=\"text-align: right;\">\n      <th></th>\n      <th>model_2008</th>\n      <th>displ_2008</th>\n      <th>cyl_2008</th>\n      <th>trans_2008</th>\n      <th>drive_2008</th>\n      <th>fuel_2008</th>\n      <th>cert_region_2008</th>\n      <th>veh_class_2008</th>\n      <th>air_pollution_score_2008</th>\n      <th>city_mpg_2008</th>\n      <th>hwy_mpg_2008</th>\n      <th>cmb_mpg_2008</th>\n      <th>greenhouse_gas_score_2008</th>\n      <th>smartway_2008</th>\n    </tr>\n  </thead>\n  <tbody>\n    <tr>\n      <th>0</th>\n      <td>ACURA MDX</td>\n      <td>3.7</td>\n      <td>6</td>\n      <td>Auto-S5</td>\n      <td>4WD</td>\n      <td>Gasoline</td>\n      <td>CA</td>\n      <td>SUV</td>\n      <td>7.0</td>\n      <td>15.0</td>\n      <td>20.0</td>\n      <td>17.0</td>\n      <td>4</td>\n      <td>no</td>\n    </tr>\n  </tbody>\n</table>\n</div>"
     },
     "execution_count": 89,
     "metadata": {},
     "output_type": "execute_result"
    }
   ],
   "source": [
    "cols = df_08.columns.tolist()\n",
    "\n",
    "for col in cols:\n",
    "    df_08.rename(columns={col: col+\"_2008\"}, inplace=True)\n",
    "\n",
    "df_08.head(1)"
   ],
   "metadata": {
    "collapsed": false,
    "pycharm": {
     "name": "#%%\n"
    }
   }
  },
  {
   "cell_type": "code",
   "execution_count": 90,
   "outputs": [
    {
     "data": {
      "text/plain": "Index(['model_2008', 'displ_2008', 'cyl_2008', 'trans_2008', 'drive_2008',\n       'fuel_2008', 'cert_region_2008', 'veh_class_2008',\n       'air_pollution_score_2008', 'city_mpg_2008', 'hwy_mpg_2008',\n       'cmb_mpg_2008', 'greenhouse_gas_score_2008', 'smartway_2008', 'model',\n       'displ', 'cyl', 'trans', 'drive', 'fuel', 'cert_region', 'veh_class',\n       'air_pollution_score', 'city_mpg', 'hwy_mpg', 'cmb_mpg',\n       'greenhouse_gas_score', 'smartway'],\n      dtype='object')"
     },
     "execution_count": 90,
     "metadata": {},
     "output_type": "execute_result"
    }
   ],
   "source": [
    "df_combined = df_08.merge(df_18, left_on='model_2008', right_on='model', how='inner')\n",
    "df_combined.columns"
   ],
   "metadata": {
    "collapsed": false,
    "pycharm": {
     "name": "#%%\n"
    }
   }
  },
  {
   "cell_type": "code",
   "execution_count": 91,
   "outputs": [
    {
     "data": {
      "text/plain": "  model_2008  displ_2008  cyl_2008 trans_2008 drive_2008 fuel_2008  \\\n0  ACURA RDX         2.3         4    Auto-S5        4WD  Gasoline   \n1  ACURA RDX         2.3         4    Auto-S5        4WD  Gasoline   \n\n  cert_region_2008 veh_class_2008  air_pollution_score_2008  city_mpg_2008  \\\n0               CA            SUV                       7.0           17.0   \n1               CA            SUV                       7.0           17.0   \n\n   ...  drive      fuel  cert_region  veh_class air_pollution_score  city_mpg  \\\n0  ...    2WD  Gasoline           FA  small SUV                 3.0      20.0   \n1  ...    2WD  Gasoline           CA  small SUV                 3.0      20.0   \n\n   hwy_mpg cmb_mpg greenhouse_gas_score smartway  \n0     28.0    23.0                    5       No  \n1     28.0    23.0                    5       No  \n\n[2 rows x 28 columns]",
      "text/html": "<div>\n<style scoped>\n    .dataframe tbody tr th:only-of-type {\n        vertical-align: middle;\n    }\n\n    .dataframe tbody tr th {\n        vertical-align: top;\n    }\n\n    .dataframe thead th {\n        text-align: right;\n    }\n</style>\n<table border=\"1\" class=\"dataframe\">\n  <thead>\n    <tr style=\"text-align: right;\">\n      <th></th>\n      <th>model_2008</th>\n      <th>displ_2008</th>\n      <th>cyl_2008</th>\n      <th>trans_2008</th>\n      <th>drive_2008</th>\n      <th>fuel_2008</th>\n      <th>cert_region_2008</th>\n      <th>veh_class_2008</th>\n      <th>air_pollution_score_2008</th>\n      <th>city_mpg_2008</th>\n      <th>...</th>\n      <th>drive</th>\n      <th>fuel</th>\n      <th>cert_region</th>\n      <th>veh_class</th>\n      <th>air_pollution_score</th>\n      <th>city_mpg</th>\n      <th>hwy_mpg</th>\n      <th>cmb_mpg</th>\n      <th>greenhouse_gas_score</th>\n      <th>smartway</th>\n    </tr>\n  </thead>\n  <tbody>\n    <tr>\n      <th>0</th>\n      <td>ACURA RDX</td>\n      <td>2.3</td>\n      <td>4</td>\n      <td>Auto-S5</td>\n      <td>4WD</td>\n      <td>Gasoline</td>\n      <td>CA</td>\n      <td>SUV</td>\n      <td>7.0</td>\n      <td>17.0</td>\n      <td>...</td>\n      <td>2WD</td>\n      <td>Gasoline</td>\n      <td>FA</td>\n      <td>small SUV</td>\n      <td>3.0</td>\n      <td>20.0</td>\n      <td>28.0</td>\n      <td>23.0</td>\n      <td>5</td>\n      <td>No</td>\n    </tr>\n    <tr>\n      <th>1</th>\n      <td>ACURA RDX</td>\n      <td>2.3</td>\n      <td>4</td>\n      <td>Auto-S5</td>\n      <td>4WD</td>\n      <td>Gasoline</td>\n      <td>CA</td>\n      <td>SUV</td>\n      <td>7.0</td>\n      <td>17.0</td>\n      <td>...</td>\n      <td>2WD</td>\n      <td>Gasoline</td>\n      <td>CA</td>\n      <td>small SUV</td>\n      <td>3.0</td>\n      <td>20.0</td>\n      <td>28.0</td>\n      <td>23.0</td>\n      <td>5</td>\n      <td>No</td>\n    </tr>\n  </tbody>\n</table>\n<p>2 rows × 28 columns</p>\n</div>"
     },
     "execution_count": 91,
     "metadata": {},
     "output_type": "execute_result"
    }
   ],
   "source": [
    "df_combined.head(2)"
   ],
   "metadata": {
    "collapsed": false,
    "pycharm": {
     "name": "#%%\n"
    }
   }
  },
  {
   "cell_type": "code",
   "execution_count": 92,
   "outputs": [],
   "source": [
    "df_combined.to_csv('combined_2008_and_2018_datasets.csv', index=False)"
   ],
   "metadata": {
    "collapsed": false,
    "pycharm": {
     "name": "#%%\n"
    }
   }
  },
  {
   "cell_type": "code",
   "execution_count": 92,
   "outputs": [],
   "source": [],
   "metadata": {
    "collapsed": false,
    "pycharm": {
     "name": "#%%\n"
    }
   }
  },
  {
   "cell_type": "code",
   "execution_count": 93,
   "outputs": [
    {
     "data": {
      "text/plain": "           cmb_mpg_2008    cmb_mpg\nmodel                             \nACURA RDX     19.000000  22.500000\nAUDI A3       23.333333  28.000000\nAUDI A4       21.000000  27.000000\nAUDI A6       19.666667  25.666667\nAUDI A8 L     16.500000  22.000000",
      "text/html": "<div>\n<style scoped>\n    .dataframe tbody tr th:only-of-type {\n        vertical-align: middle;\n    }\n\n    .dataframe tbody tr th {\n        vertical-align: top;\n    }\n\n    .dataframe thead th {\n        text-align: right;\n    }\n</style>\n<table border=\"1\" class=\"dataframe\">\n  <thead>\n    <tr style=\"text-align: right;\">\n      <th></th>\n      <th>cmb_mpg_2008</th>\n      <th>cmb_mpg</th>\n    </tr>\n    <tr>\n      <th>model</th>\n      <th></th>\n      <th></th>\n    </tr>\n  </thead>\n  <tbody>\n    <tr>\n      <th>ACURA RDX</th>\n      <td>19.000000</td>\n      <td>22.500000</td>\n    </tr>\n    <tr>\n      <th>AUDI A3</th>\n      <td>23.333333</td>\n      <td>28.000000</td>\n    </tr>\n    <tr>\n      <th>AUDI A4</th>\n      <td>21.000000</td>\n      <td>27.000000</td>\n    </tr>\n    <tr>\n      <th>AUDI A6</th>\n      <td>19.666667</td>\n      <td>25.666667</td>\n    </tr>\n    <tr>\n      <th>AUDI A8 L</th>\n      <td>16.500000</td>\n      <td>22.000000</td>\n    </tr>\n  </tbody>\n</table>\n</div>"
     },
     "execution_count": 93,
     "metadata": {},
     "output_type": "execute_result"
    }
   ],
   "source": [
    "model_mpg = df_combined.groupby(\"model\").mean()[['cmb_mpg_2008', 'cmb_mpg']]\n",
    "model_mpg.head()"
   ],
   "metadata": {
    "collapsed": false,
    "pycharm": {
     "name": "#%%\n"
    }
   }
  },
  {
   "cell_type": "code",
   "execution_count": 94,
   "outputs": [
    {
     "data": {
      "text/plain": "           cmb_mpg_2008    cmb_mpg  mpg_change\nmodel                                         \nACURA RDX     19.000000  22.500000    3.500000\nAUDI A3       23.333333  28.000000    4.666667\nAUDI A4       21.000000  27.000000    6.000000\nAUDI A6       19.666667  25.666667    6.000000\nAUDI A8 L     16.500000  22.000000    5.500000",
      "text/html": "<div>\n<style scoped>\n    .dataframe tbody tr th:only-of-type {\n        vertical-align: middle;\n    }\n\n    .dataframe tbody tr th {\n        vertical-align: top;\n    }\n\n    .dataframe thead th {\n        text-align: right;\n    }\n</style>\n<table border=\"1\" class=\"dataframe\">\n  <thead>\n    <tr style=\"text-align: right;\">\n      <th></th>\n      <th>cmb_mpg_2008</th>\n      <th>cmb_mpg</th>\n      <th>mpg_change</th>\n    </tr>\n    <tr>\n      <th>model</th>\n      <th></th>\n      <th></th>\n      <th></th>\n    </tr>\n  </thead>\n  <tbody>\n    <tr>\n      <th>ACURA RDX</th>\n      <td>19.000000</td>\n      <td>22.500000</td>\n      <td>3.500000</td>\n    </tr>\n    <tr>\n      <th>AUDI A3</th>\n      <td>23.333333</td>\n      <td>28.000000</td>\n      <td>4.666667</td>\n    </tr>\n    <tr>\n      <th>AUDI A4</th>\n      <td>21.000000</td>\n      <td>27.000000</td>\n      <td>6.000000</td>\n    </tr>\n    <tr>\n      <th>AUDI A6</th>\n      <td>19.666667</td>\n      <td>25.666667</td>\n      <td>6.000000</td>\n    </tr>\n    <tr>\n      <th>AUDI A8 L</th>\n      <td>16.500000</td>\n      <td>22.000000</td>\n      <td>5.500000</td>\n    </tr>\n  </tbody>\n</table>\n</div>"
     },
     "execution_count": 94,
     "metadata": {},
     "output_type": "execute_result"
    }
   ],
   "source": [
    "model_mpg['mpg_change'] = model_mpg['cmb_mpg'] - model_mpg['cmb_mpg_2008']\n",
    "model_mpg.head()"
   ],
   "metadata": {
    "collapsed": false,
    "pycharm": {
     "name": "#%%\n"
    }
   }
  },
  {
   "cell_type": "code",
   "execution_count": 95,
   "outputs": [
    {
     "data": {
      "text/plain": "16.53333333333334"
     },
     "execution_count": 95,
     "metadata": {},
     "output_type": "execute_result"
    }
   ],
   "source": [
    "maximum_change = model_mpg['mpg_change'].max()\n",
    "maximum_change"
   ],
   "metadata": {
    "collapsed": false,
    "pycharm": {
     "name": "#%%\n"
    }
   }
  },
  {
   "cell_type": "code",
   "execution_count": 96,
   "outputs": [
    {
     "data": {
      "text/plain": "             cmb_mpg_2008  cmb_mpg  mpg_change\nmodel                                         \nVOLVO XC 90     15.666667     32.2   16.533333",
      "text/html": "<div>\n<style scoped>\n    .dataframe tbody tr th:only-of-type {\n        vertical-align: middle;\n    }\n\n    .dataframe tbody tr th {\n        vertical-align: top;\n    }\n\n    .dataframe thead th {\n        text-align: right;\n    }\n</style>\n<table border=\"1\" class=\"dataframe\">\n  <thead>\n    <tr style=\"text-align: right;\">\n      <th></th>\n      <th>cmb_mpg_2008</th>\n      <th>cmb_mpg</th>\n      <th>mpg_change</th>\n    </tr>\n    <tr>\n      <th>model</th>\n      <th></th>\n      <th></th>\n      <th></th>\n    </tr>\n  </thead>\n  <tbody>\n    <tr>\n      <th>VOLVO XC 90</th>\n      <td>15.666667</td>\n      <td>32.2</td>\n      <td>16.533333</td>\n    </tr>\n  </tbody>\n</table>\n</div>"
     },
     "execution_count": 96,
     "metadata": {},
     "output_type": "execute_result"
    }
   ],
   "source": [
    "model_mpg[model_mpg['mpg_change'] == maximum_change]"
   ],
   "metadata": {
    "collapsed": false,
    "pycharm": {
     "name": "#%%\n"
    }
   }
  },
  {
   "cell_type": "code",
   "execution_count": 97,
   "outputs": [
    {
     "data": {
      "text/plain": "'VOLVO XC 90'"
     },
     "execution_count": 97,
     "metadata": {},
     "output_type": "execute_result"
    }
   ],
   "source": [
    "idx = model_mpg.mpg_change.idxmax()\n",
    "idx"
   ],
   "metadata": {
    "collapsed": false,
    "pycharm": {
     "name": "#%%\n"
    }
   }
  },
  {
   "cell_type": "code",
   "execution_count": 98,
   "outputs": [
    {
     "data": {
      "text/plain": "cmb_mpg_2008    15.666667\ncmb_mpg         32.200000\nmpg_change      16.533333\nName: VOLVO XC 90, dtype: float64"
     },
     "execution_count": 98,
     "metadata": {},
     "output_type": "execute_result"
    }
   ],
   "source": [
    "model_mpg.loc[idx]"
   ],
   "metadata": {
    "collapsed": false,
    "pycharm": {
     "name": "#%%\n"
    }
   }
  }
 ],
 "metadata": {
  "kernelspec": {
   "display_name": "Python 3",
   "language": "python",
   "name": "python3"
  },
  "language_info": {
   "codemirror_mode": {
    "name": "ipython",
    "version": 3
   },
   "file_extension": ".py",
   "mimetype": "text/x-python",
   "name": "python",
   "nbconvert_exporter": "python",
   "pygments_lexer": "ipython3",
   "version": "3.6.3"
  }
 },
 "nbformat": 4,
 "nbformat_minor": 2
}